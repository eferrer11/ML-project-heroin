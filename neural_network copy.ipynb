{
 "cells": [
  {
   "cell_type": "code",
   "execution_count": 1,
   "metadata": {},
   "outputs": [],
   "source": [
    "import torch\n",
    "import torch.nn as nn\n",
    "import torch.optim as optim\n",
    "import torch.nn.functional as F\n",
    "from sklearn.model_selection import GridSearchCV\n",
    "from sklearn.metrics import mean_squared_error\n",
    "import numpy as np\n",
    "from skorch.callbacks import EpochScoring\n",
    "from sklearn.preprocessing import StandardScaler\n",
    "from skorch import NeuralNetRegressor\n",
    "from sklearn.model_selection import train_test_split\n",
    "import pandas as pd\n",
    "from scipy.signal import savgol_filter\n",
    "from scipy.stats import zscore"
   ]
  },
  {
   "cell_type": "code",
   "execution_count": 3,
   "metadata": {},
   "outputs": [],
   "source": [
    "data = pd.read_csv(\"./train.csv\")\n",
    "\n",
    "spectrum = data.iloc[:, 6:]\n",
    "\n",
    "#spectrum_filtered = pd.DataFrame(savgol_filter(spectrum, 7, 3, deriv = 2, axis = 0))\n",
    "#spectrum_filtered_st = zscore(spectrum_filtered, axis = 1)\n",
    "\n",
    "X = spectrum\n",
    "y = data[\"PURITY\"]\n",
    "\n",
    "X_train, X_valid, y_train, y_valid = train_test_split(X, y, test_size=0.2, random_state=42)\n",
    "\n",
    "standardizer = StandardScaler()\n",
    "X_train_standardized = standardizer.fit_transform(X_train)\n",
    "X_valid_standardized = standardizer.transform(X_valid)\n",
    "\n",
    "# Convert to tensors\n",
    "X_train_tensor = torch.tensor(X_train_standardized, dtype=torch.float32)\n",
    "y_train_tensor = torch.tensor(y_train.values, dtype=torch.float32).reshape(-1, 1)\n",
    "X_valid_tensor = torch.tensor(X_valid_standardized, dtype=torch.float32)\n",
    "y_valid_tensor = torch.tensor(y_valid.values, dtype=torch.float32).reshape(-1, 1)\n",
    "\n"
   ]
  },
  {
   "cell_type": "code",
   "execution_count": 4,
   "metadata": {},
   "outputs": [
    {
     "name": "stdout",
     "output_type": "stream",
     "text": [
      "Dimensions de X_train_tensor : torch.Size([1040, 125])\n",
      "Dimensions de y_train_tensor : torch.Size([1040, 1])\n",
      "Dimensions de X_valid_tensor : torch.Size([260, 125])\n",
      "Dimensions de y_valid_tensor : torch.Size([260, 1])\n"
     ]
    }
   ],
   "source": [
    "#check for dimensions\n",
    "print(\"Dimensions de X_train_tensor :\", X_train_tensor.shape)\n",
    "print(\"Dimensions de y_train_tensor :\", y_train_tensor.shape)\n",
    "print(\"Dimensions de X_valid_tensor :\", X_valid_tensor.shape)\n",
    "print(\"Dimensions de y_valid_tensor :\", y_valid_tensor.shape)\n"
   ]
  },
  {
   "cell_type": "code",
   "execution_count": 5,
   "metadata": {},
   "outputs": [],
   "source": [
    "class SimpleNN(nn.Module):\n",
    "    def __init__(self, fc1_out_features=100, fc2_out_features=64):\n",
    "        super(SimpleNN, self).__init__()\n",
    "        self.fc1 = nn.Linear(X_train_tensor.shape[1], fc1_out_features)\n",
    "        self.fc2 = nn.Linear(fc1_out_features, fc2_out_features)\n",
    "        self.fc3 = nn.Linear(fc2_out_features, 1)\n",
    "\n",
    "      \n",
    "    def forward(self, x):\n",
    "        x = F.relu(self.fc1(x))\n",
    "        x = F.relu(self.fc2(x))\n",
    "        x = self.fc3(x)\n",
    "        return x"
   ]
  },
  {
   "cell_type": "code",
   "execution_count": 12,
   "metadata": {},
   "outputs": [
    {
     "name": "stdout",
     "output_type": "stream",
     "text": [
      "MSE : 65.8006\n",
      "t_score : 0.5038461685180664\n"
     ]
    },
    {
     "data": {
      "image/png": "[encoded data removed]",
      "text/plain": [
       "<Figure size 640x480 with 1 Axes>"
      ]
     },
     "metadata": {},
     "output_type": "display_data"
    }
   ],
   "source": [
    "# Initialiser le modèle\n",
    "input_size = X_train_tensor.shape[1]\n",
    "model = SimpleNN(input_size)\n",
    "\n",
    "# Définir la fonction de perte\n",
    "criterion = nn.MSELoss()\n",
    "\n",
    "# Définir la descente de gradient\n",
    "def gradient_descent(model, criterion, X_train_tensor, y_train_tensor, eta=0.001, T=10000):\n",
    "    optimizer = optim.SGD(model.parameters(), lr=eta)\n",
    "    learning_curve = []\n",
    "    steps = []\n",
    "    \n",
    "    for t in range(T):\n",
    "        model.train()\n",
    "        optimizer.zero_grad()\n",
    "        outputs = model(X_train_tensor)\n",
    "        loss = criterion(outputs, y_train_tensor)\n",
    "        learning_curve.append(loss.item())\n",
    "        steps.append(t+1)\n",
    "        loss.backward()  # Compute gradients\n",
    "        optimizer.step()  # Update parameters\n",
    "    return (model, learning_curve, steps)\n",
    "\n",
    "# Entraîner le modèle avec la descente de gradient\n",
    "model, learning_curve, steps = gradient_descent(model, criterion, X_train_tensor, y_train_tensor, eta=0.0001, T=500)\n",
    "\n",
    "# Générer les prédictions sur les données de validation\n",
    "model.eval()\n",
    "with torch.no_grad():\n",
    "    y_pred = model(X_valid_tensor).detach().numpy()\n",
    "\n",
    "# Calculer la MSE\n",
    "mse = np.mean((y_pred - y_valid_tensor.numpy())**2)\n",
    "print(\"MSE :\", mse)\n",
    "\n",
    "# Calculer le t_score\n",
    "predictions_tensor = torch.tensor(y_pred, dtype=torch.float32)\n",
    "t_score = torch.mean((torch.abs(predictions_tensor - y_valid_tensor) <= 5).float())\n",
    "print(\"t_score :\", t_score.item())\n",
    "\n",
    "# Afficher la courbe d'apprentissage\n",
    "import matplotlib.pyplot as plt\n",
    "plt.plot(steps, learning_curve)\n",
    "plt.xlabel('Steps')\n",
    "plt.ylabel('Loss')\n",
    "plt.title('Learning Curve')\n",
    "plt.show()"
   ]
  },
  {
   "cell_type": "code",
   "execution_count": 8,
   "metadata": {},
   "outputs": [
    {
     "name": "stdout",
     "output_type": "stream",
     "text": [
      "Mean Squared Error: 773.70575\n"
     ]
    }
   ],
   "source": [
    "#création du modèle\n",
    "net = NeuralNetRegressor(\n",
    "    SimpleNN,\n",
    "    max_epochs=10,\n",
    "    lr=0.1,\n",
    "    iterator_train__shuffle=False,\n",
    "    criterion=torch.nn.MSELoss,\n",
    "    optimizer=torch.optim.Adam,\n",
    "    verbose=False,\n",
    "    #callbacks=[EpochScoring('neg_mean_squared_error', lower_is_better=True)]\n",
    ")\n",
    "\n",
    "net.fit(X_train_tensor, y_train_tensor)\n",
    "y_pred = net.predict(X_valid_tensor)\n",
    "mse = mean_squared_error(y_valid_tensor.numpy(), y_pred)\n",
    "print(\"Mean Squared Error:\", mse)"
   ]
  },
  {
   "cell_type": "code",
   "execution_count": 9,
   "metadata": {},
   "outputs": [
    {
     "name": "stdout",
     "output_type": "stream",
     "text": [
      "Best MSE: -39.706443 using {'lr': 0.02, 'max_epochs': 25, 'module__fc1_out_features': 100, 'module__fc2_out_features': 128}\n"
     ]
    }
   ],
   "source": [
    "\n",
    "params = {\n",
    "    'lr': [0.01, 0.02, 0.05],\n",
    "    'max_epochs': [20,25],\n",
    "    'module__fc1_out_features': [100, 128],\n",
    "    'module__fc2_out_features': [64, 128],\n",
    "}\n",
    "\n",
    "grid_search = GridSearchCV(net, params, refit=True, cv=5, scoring='neg_mean_squared_error',verbose=0)\n",
    "grid_result = grid_search.fit(X_train_tensor, y_train_tensor)\n",
    "\n",
    "print(\"Best MSE: %f using %s\" % (grid_result.best_score_, grid_result.best_params_))"
   ]
  },
  {
   "cell_type": "code",
   "execution_count": 10,
   "metadata": {},
   "outputs": [
    {
     "name": "stderr",
     "output_type": "stream",
     "text": [
      "C:\\Users\\elvua\\AppData\\Local\\Temp\\ipykernel_9156\\2082825715.py:3: UserWarning: To copy construct from a tensor, it is recommended to use sourceTensor.clone().detach() or sourceTensor.clone().detach().requires_grad_(True), rather than torch.tensor(sourceTensor).\n",
      "  predictions = mach2.predict(torch.tensor(X_valid_tensor[172:, :], dtype=torch.float32))\n"
     ]
    }
   ],
   "source": [
    "\n",
    "mach2 = grid_result.best_estimator_\n",
    "mach2.fit(X_train_tensor, y_train_tensor)\n",
    "predictions = mach2.predict(torch.tensor(X_valid_tensor[172:, :], dtype=torch.float32))\n",
    "#mach2.get_params()"
   ]
  },
  {
   "cell_type": "code",
   "execution_count": 11,
   "metadata": {},
   "outputs": [
    {
     "name": "stdout",
     "output_type": "stream",
     "text": [
      "t_score 0.5795454382896423\n"
     ]
    }
   ],
   "source": [
    "\n",
    "predictions_tensor = torch.tensor(predictions, dtype=torch.float32)\n",
    "y_valid_tensor_sliced = y_valid_tensor[172:, :]  \n",
    "t_score = torch.mean((torch.abs(predictions_tensor - y_valid_tensor_sliced) <= 5).float())\n",
    "print('t_score',t_score.item())"
   ]
  }
 ],
 "metadata": {
  "kernelspec": {
   "display_name": "MLCourse",
   "language": "python",
   "name": "python3"
  },
  "language_info": {
   "codemirror_mode": {
    "name": "ipython",
    "version": 3
   },
   "file_extension": ".py",
   "mimetype": "text/x-python",
   "name": "python",
   "nbconvert_exporter": "python",
   "pygments_lexer": "ipython3",
   "version": "3.10.15"
  }
 },
 "nbformat": 4,
 "nbformat_minor": 2
}
