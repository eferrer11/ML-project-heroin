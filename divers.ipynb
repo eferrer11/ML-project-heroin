{
 "cells": [
  {
   "cell_type": "code",
   "execution_count": 1,
   "metadata": {},
   "outputs": [],
   "source": [
    "import numpy as np\n",
    "import pandas as pd\n",
    "from scipy.signal import savgol_filter\n",
    "from scipy.stats import zscore\n",
    "from sklearn.linear_model import LinearRegression\n",
    "from sklearn.model_selection import train_test_split\n",
    "import matplotlib.pyplot as plt\n",
    "from sklearn.linear_model import Ridge\n",
    "from sklearn.model_selection import GridSearchCV\n",
    "from sklearn.metrics import mean_squared_error\n",
    "from sklearn import preprocessing\n",
    "from scipy.spatial.distance import cdist\n",
    "from sklearn.neighbors import KNeighborsRegressor"
   ]
  },
  {
   "cell_type": "code",
   "execution_count": 2,
   "metadata": {},
   "outputs": [],
   "source": [
    "data = pd.read_csv(\"./train.csv\")\n",
    "subspures = pd.read_csv(\"./substances.csv\")\n",
    "pure_heroin = subspures[(subspures['substance'] == 'heroin (white)') | (subspures[\"substance\"]==\"heroin (brown)\")]"
   ]
  },
  {
   "cell_type": "code",
   "execution_count": 3,
   "metadata": {},
   "outputs": [],
   "source": [
    "distances = cdist(data.iloc[:,6:].to_numpy(), pure_heroin.iloc[:, 1:].to_numpy(), metric = 'euclidean')\n",
    "dist_her = pd.DataFrame(distances, index = data.iloc[:,6:].index, columns=pure_heroin.iloc[:,1:].index)"
   ]
  },
  {
   "cell_type": "code",
   "execution_count": null,
   "metadata": {},
   "outputs": [],
   "source": [
    "#normalized_data = preprocessing.normalize(data.iloc[:, 6:].values)\n",
    "#normalized_substances = preprocessing.normalize(subspures.iloc[:,1:].values)\n",
    "data_new_features2 = data.iloc[:, 6:].values.dot(subspures.iloc[:,1:].values.T)\n",
    "#data_new_features2_pd = pd.DataFrame(data_new_features2, index=data.iloc[:,6:].index, columns=subspures.iloc[:,1:].index)"
   ]
  },
  {
   "cell_type": "code",
   "execution_count": 13,
   "metadata": {},
   "outputs": [],
   "source": [
    "\"\"\"\n",
    "spectrum = data.iloc[:, 6:]\n",
    "spectrum_filtered = pd.DataFrame(savgol_filter(spectrum, 7, 3, deriv = 2, axis = 0))\n",
    "spectrum_filtered_st = zscore(spectrum_filtered, axis = 1)\"\"\"\n",
    "\n",
    "X = pd.DataFrame(data_new_features2)\n",
    "y = data['PURITY']\n",
    "X_train, X_valid, y_train, y_valid = train_test_split(X, y, test_size=0.15, random_state=42)"
   ]
  },
  {
   "cell_type": "code",
   "execution_count": 6,
   "metadata": {},
   "outputs": [
    {
     "data": {
      "image/png": "[encoded data removed]",
      "text/plain": [
       "<Figure size 640x480 with 1 Axes>"
      ]
     },
     "metadata": {},
     "output_type": "display_data"
    }
   ],
   "source": [
    "model = Ridge() #ridge regressors model\n",
    "param_grid = {'alpha': np.logspace(-7, 0, 100)} #hyperparamater alpha\n",
    "\n",
    "grid_search = GridSearchCV(estimator=model, param_grid=param_grid, cv=5, scoring='neg_mean_squared_error')\n",
    "grid_search.fit(X, y)\n",
    "\n",
    "mach1 = grid_search.best_estimator_ #best model\n",
    "mach1.fit(X_train, y_train) #apply the best model to the data\n",
    "predictions = mach1.predict(X_valid)\n",
    "\n",
    "plt.figure()\n",
    "plt.scatter(np.logspace(-7, 0, 100),        \n",
    "            np.sqrt(-grid_search.cv_results_['mean_test_score']))\n",
    "plt.xlabel(\"lambda\")\n",
    "plt.ylabel(\"RMSE\")\n",
    "plt.xscale(\"log\")\n",
    "plt.show()"
   ]
  },
  {
   "cell_type": "code",
   "execution_count": 7,
   "metadata": {},
   "outputs": [
    {
     "data": {
      "text/plain": [
       "{'alpha': 1e-07,\n",
       " 'copy_X': True,\n",
       " 'fit_intercept': True,\n",
       " 'max_iter': None,\n",
       " 'positive': False,\n",
       " 'random_state': None,\n",
       " 'solver': 'auto',\n",
       " 'tol': 0.0001}"
      ]
     },
     "execution_count": 7,
     "metadata": {},
     "output_type": "execute_result"
    }
   ],
   "source": [
    "mach1.get_params()"
   ]
  },
  {
   "cell_type": "code",
   "execution_count": 8,
   "metadata": {},
   "outputs": [
    {
     "name": "stdout",
     "output_type": "stream",
     "text": [
      "Train score ridge : 0.820814479638009\n",
      "Test score ridge : 0.8256410256410256\n"
     ]
    }
   ],
   "source": [
    "y_pred1 = mach1.predict(X_train)\n",
    "y_pred2 = mach1.predict(X_valid)\n",
    "train_score = np.mean(np.abs(y_pred1-y_train<=5))\n",
    "test_score = np.mean(np.abs(y_pred2-y_valid<=5))\n",
    "print(\"Train score ridge :\", train_score)\n",
    "print(\"Test score ridge :\", test_score)"
   ]
  },
  {
   "cell_type": "code",
   "execution_count": 9,
   "metadata": {},
   "outputs": [
    {
     "name": "stdout",
     "output_type": "stream",
     "text": [
      "[-37.06041561 -33.46874474 -35.66276686 -38.63553625 -46.24582619]\n"
     ]
    },
    {
     "data": {
      "text/plain": [
       "('Average error:',\n",
       " 6.172190592450592,\n",
       " 'Per fold:',\n",
       " array([6.08772664, 5.78521778, 5.97183111, 6.21574905, 6.80042838]))"
      ]
     },
     "execution_count": 9,
     "metadata": {},
     "output_type": "execute_result"
    }
   ],
   "source": [
    "from sklearn.model_selection import KFold \n",
    "from sklearn.model_selection import cross_val_score\n",
    "\n",
    "outer_cv = KFold(n_splits=5, shuffle=True, random_state=42)\n",
    "nested_scores=cross_val_score(mach1, X, y, cv=outer_cv, scoring='neg_mean_squared_error')\n",
    "\n",
    "print(nested_scores) \n",
    "\n",
    "('Average error:', np.sqrt(-nested_scores).mean(), \"Per fold:\", np.sqrt(-nested_scores))"
   ]
  },
  {
   "cell_type": "code",
   "execution_count": 14,
   "metadata": {},
   "outputs": [],
   "source": [
    "def fit_and_evaluate(K:int, x_train:pd.DataFrame, x_valid:pd.DataFrame, Y_train, Y_valid)->dict:\n",
    "    model = KNeighborsRegressor(n_neighbors=K)\n",
    "    model.fit(x_train, y_train)\n",
    "    y_pred = model.predict(x_valid)\n",
    "    return {\n",
    "        \"training_error\": np.sqrt(mean_squared_error(model.predict(x_train), Y_train)),\n",
    "        \"test_error\": np.sqrt(mean_squared_error(model.predict(x_valid), Y_valid)),\n",
    "        \"prediction\": y_pred,\n",
    "    }\n",
    "\n",
    "KNN = fit_and_evaluate(40, X_train, X_valid, y_train, y_valid)"
   ]
  },
  {
   "cell_type": "code",
   "execution_count": 15,
   "metadata": {},
   "outputs": [],
   "source": [
    "# cross-validation function\n",
    "def cross_validation(idxs, nfolds=5):\n",
    "    n = int(np.ceil(len(idxs) / nfolds))\n",
    "    validation_sets = [idxs[k * n : min((k + 1) * n, len(idxs))] for k in range(nfolds)]\n",
    "    train_sets = [list(set(idxs) - set(validation_set)) for validation_set in validation_sets]\n",
    "    return {'train_sets': train_sets, 'validation_sets': validation_sets}\n",
    "\n",
    "def nested_cross_validation(idxs, inner_nfolds=5, outer_nfolds=5):\n",
    "    outer = cross_validation(idxs, nfolds=outer_nfolds)\n",
    "    results = []\n",
    "\n",
    "    # Parcourir les folds externes\n",
    "    for te, tr in zip(outer['validation_sets'], outer['train_sets']):\n",
    "        \n",
    "        # Validation croisée interne pour optimiser les hyperparamètres\n",
    "        inner = cross_validation(tr, nfolds=inner_nfolds)\n",
    "        \n",
    "        best_score = float('inf')  # Initialiser avec un score très élevé\n",
    "        best_k = None  # Initialiser le meilleur k à None\n",
    "\n",
    "        # Essayer différentes valeurs de K dans la validation croisée interne\n",
    "        k_range = range(10, 40)  # Tester les valeurs de K de 1 à 20\n",
    "        for k in k_range:\n",
    "            score = 0  # Calculer la moyenne des scores pour ce k\n",
    "            \n",
    "            for inner_train, inner_test in zip(inner['train_sets'], inner['validation_sets']):\n",
    "                X_train, X_val = X.iloc[inner_train], X.iloc[inner_test]\n",
    "                y_train, y_val = y.iloc[inner_train], y.iloc[inner_test]\n",
    "                \n",
    "                model = KNeighborsRegressor(n_neighbors=k)\n",
    "                model.fit(X_train, y_train)\n",
    "                score += np.sqrt(mean_squared_error(y_val, model.predict(X_val)))  # Accumuler les scores\n",
    "                \n",
    "            avg_score = score / inner_nfolds  # Moyenne des scores pour ce K\n",
    "            \n",
    "            # Si ce K donne un meilleur score, on met à jour best_score et best_k\n",
    "            if avg_score < best_score:\n",
    "                best_score = avg_score\n",
    "                best_k = k\n",
    "\n",
    "        # Evaluation sur le fold externe avec le meilleur K trouvé\n",
    "        X_train, X_test = X.iloc[tr], X.iloc[te]\n",
    "        y_train, y_test = y.iloc[tr], y.iloc[te]\n",
    "        \n",
    "        model = KNeighborsRegressor(n_neighbors=best_k)  # Utiliser le meilleur K\n",
    "        model.fit(X_train, y_train)\n",
    "        test_error = np.sqrt(mean_squared_error(y_test, model.predict(X_test)))\n",
    "\n",
    "        # Sauvegarder les résultats de ce fold externe\n",
    "        results.append({\n",
    "            'test_set': te,\n",
    "            'best_k': best_k,\n",
    "            'best_score': best_score,\n",
    "            'test_error': test_error\n",
    "        })\n",
    "    \n",
    "    return results"
   ]
  },
  {
   "cell_type": "code",
   "execution_count": 16,
   "metadata": {},
   "outputs": [
    {
     "name": "stdout",
     "output_type": "stream",
     "text": [
      "Best K: 10\n",
      "Best internal validation score (MSE): 10.216934219273003\n",
      "Test error (MSE): 8.494438506753553\n",
      "--------------------------------------------------\n",
      "Best K: 10\n",
      "Best internal validation score (MSE): 9.80352387919545\n",
      "Test error (MSE): 9.815761630770174\n",
      "--------------------------------------------------\n",
      "Best K: 10\n",
      "Best internal validation score (MSE): 10.029125173788035\n",
      "Test error (MSE): 9.335734591403941\n",
      "--------------------------------------------------\n",
      "Best K: 11\n",
      "Best internal validation score (MSE): 9.718996216896874\n",
      "Test error (MSE): 10.666221443585648\n",
      "--------------------------------------------------\n",
      "Best K: 10\n",
      "Best internal validation score (MSE): 9.73875464393478\n",
      "Test error (MSE): 9.878408390557\n",
      "--------------------------------------------------\n",
      "0.4666666666666667\n"
     ]
    }
   ],
   "source": [
    "# Exemple d'utilisation\n",
    "idxs = list(range(len(X_train)))  # Indices de vos données d'entraînement\n",
    "results = nested_cross_validation(idxs, inner_nfolds=5, outer_nfolds=5)\n",
    "\n",
    "# Affichage des résultats\n",
    "for result in results:\n",
    "    print(f\"Best K: {result['best_k']}\")\n",
    "    print(f\"Best internal validation score (MSE): {result['best_score']}\")\n",
    "    print(f\"Test error (MSE): {result['test_error']}\")\n",
    "    print(\"-\" * 50)\n",
    "\n",
    "t_score = np.mean(np.abs(KNN[\"prediction\"] - y_valid) <= 5)\n",
    "print(t_score)"
   ]
  }
 ],
 "metadata": {
  "kernelspec": {
   "display_name": "Python 3",
   "language": "python",
   "name": "python3"
  },
  "language_info": {
   "codemirror_mode": {
    "name": "ipython",
    "version": 3
   },
   "file_extension": ".py",
   "mimetype": "text/x-python",
   "name": "python",
   "nbconvert_exporter": "python",
   "pygments_lexer": "ipython3",
   "version": "3.10.13"
  }
 },
 "nbformat": 4,
 "nbformat_minor": 2
}
