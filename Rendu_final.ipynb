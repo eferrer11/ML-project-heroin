{
 "cells": [
  {
   "cell_type": "code",
   "execution_count": 1,
   "metadata": {},
   "outputs": [],
   "source": [
    "import numpy as np\n",
    "import pandas as pd\n",
    "import matplotlib.pyplot as plt\n",
    "from sklearn.linear_model import Ridge\n",
    "from sklearn import preprocessing\n",
    "from scipy.spatial.distance import cdist\n",
    "import torch\n",
    "import torch.nn as nn\n",
    "import torch.optim as optim\n",
    "import torch.nn.functional as F\n",
    "from sklearn.model_selection import GridSearchCV, cross_val_score, RandomizedSearchCV,train_test_split\n",
    "from sklearn.preprocessing import StandardScaler, OneHotEncoder\n",
    "from sklearn.base import BaseEstimator, RegressorMixin\n",
    "from sklearn.decomposition import PCA\n",
    "from torch.utils.data import TensorDataset, DataLoader\n",
    "from scipy.stats import uniform, randint, loguniform\n"
   ]
  },
  {
   "cell_type": "markdown",
   "metadata": {},
   "source": [
    "**Preprocessing**"
   ]
  },
  {
   "cell_type": "markdown",
   "metadata": {},
   "source": [
    "**Linear Model**"
   ]
  },
  {
   "cell_type": "code",
   "execution_count": null,
   "metadata": {},
   "outputs": [],
   "source": [
    "# Retrieve the data\n",
    "data = pd.read_csv(\"./train.csv\")\n",
    "subspures = pd.read_csv(\"./substances.csv\")\n",
    "pure_heroin = subspures[(subspures['substance'] == 'heroin (white)') | (subspures[\"substance\"]==\"heroin (brown)\")]\n",
    "\n",
    "# Create new features\n",
    "distances = cdist(data.iloc[:,6:].to_numpy(), pure_heroin.iloc[:, 1:].to_numpy(), metric = 'euclidean')\n",
    "dist_her = pd.DataFrame(distances, index = data.iloc[:,6:].index, columns=pure_heroin.iloc[:,1:].index)\n",
    "data_new_features2 = data.iloc[:, 6:].values.dot(subspures.iloc[:,1:].values.T)\n",
    "\n",
    "\n",
    "X = data_new_features2\n",
    "y = data['PURITY']\n",
    "X_train, X_valid, y_train, y_valid = train_test_split(X, y, test_size=0.15, random_state=42)\n",
    "\n",
    "\n",
    "model = Ridge() #ridge regressors model\n",
    "param_grid = {'alpha': np.logspace(-7, 0, 100)} #hyperparamater alpha\n",
    "\n",
    "\n",
    "grid_search = GridSearchCV(estimator=model, param_grid=param_grid, cv=5, scoring='neg_mean_squared_error')\n",
    "grid_search.fit(X, y)\n",
    "\n",
    "\n",
    "mach1 = grid_search.best_estimator_ #best model\n",
    "mach1.fit(X_train, y_train) #apply the best model to the data\n",
    "predictions = mach1.predict(X_valid)\n",
    "\n",
    "\n",
    "plt.figure()\n",
    "plt.scatter(np.logspace(-7, 0, 100),        \n",
    "            np.sqrt(-grid_search.cv_results_['mean_test_score']))\n",
    "plt.xlabel(\"lambda\")\n",
    "plt.ylabel(\"RMSE\")\n",
    "plt.xscale(\"log\")\n",
    "plt.show()\n",
    "\n",
    "\n",
    "y_pred1 = mach1.predict(X_train)\n",
    "y_pred2 = mach1.predict(X_valid)\n",
    "train_score = np.mean(np.abs(y_pred1-y_train<=5))\n",
    "test_score = np.mean(np.abs(y_pred2-y_valid<=5))\n",
    "print(\"Train score ridge :\", train_score)\n",
    "print(\"Test score ridge :\", test_score)"
   ]
  },
  {
   "cell_type": "markdown",
   "metadata": {},
   "source": [
    "**Non-linear model**"
   ]
  },
  {
   "cell_type": "code",
   "execution_count": null,
   "metadata": {},
   "outputs": [],
   "source": [
    "data_train = pd.read_csv(\"./train.csv\")\n",
    "data_test = pd.read_csv(\"./test.csv\")\n",
    "X_train = data_train.iloc[:, 6:]\n",
    "X_test = data_test.iloc[:, 5:]\n",
    "\n",
    "y = data_train[\"PURITY\"]/100\n",
    "\n",
    "pca = PCA(n_components=16)\n",
    "X_pca = pd.DataFrame(pca.fit_transform(X_train))\n",
    "print(pca.explained_variance_ratio_) #pour trouver le nombre de composantes à garder\n",
    "X_new = pd.concat([X_train, X_pca], axis=1)\n",
    "X_new.columns = X_new.columns.astype(str)\n",
    "standardizer = StandardScaler()\n",
    "X_st = standardizer.fit_transform(X_new)\n",
    "\n",
    "X_train, X_valid, y_train, y_valid = train_test_split(X_st, y, test_size=0.2, random_state=42)\n",
    "\n",
    "# Convert to tensors\n",
    "X_train_tensor = torch.tensor(X_train, dtype=torch.float32)\n",
    "y_train_tensor = torch.tensor(y_train.values, dtype=torch.float32).reshape(-1, 1)\n",
    "X_valid_tensor = torch.tensor(X_valid, dtype=torch.float32)\n",
    "y_valid_tensor = torch.tensor(y_valid.values, dtype=torch.float32).reshape(-1, 1)\n"
   ]
  }
 ],
 "metadata": {
  "kernelspec": {
   "display_name": "MLCourse",
   "language": "python",
   "name": "python3"
  },
  "language_info": {
   "codemirror_mode": {
    "name": "ipython",
    "version": 3
   },
   "file_extension": ".py",
   "mimetype": "text/x-python",
   "name": "python",
   "nbconvert_exporter": "python",
   "pygments_lexer": "ipython3",
   "version": "3.10.13"
  }
 },
 "nbformat": 4,
 "nbformat_minor": 2
}
