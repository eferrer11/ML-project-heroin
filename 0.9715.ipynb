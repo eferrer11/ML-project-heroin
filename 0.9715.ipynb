{
  "cells": [
    {
      "cell_type": "code",
      "source": [
        "# This Python 3 environment comes with many helpful analytics libraries installed\n",
        "# It is defined by the kaggle/python Docker image: https://github.com/kaggle/docker-python\n",
        "# For example, here's several helpful packages to load\n",
        "\n",
        "import numpy as np # linear algebra\n",
        "import pandas as pd # data processing, CSV file I/O (e.g. pd.read_csv)\n",
        "\n",
        "# Input data files are available in the read-only \"../input/\" directory\n",
        "# For example, running this (by clicking run or pressing Shift+Enter) will list all files under the input directory\n",
        "\n",
        "import os\n",
        "for dirname, _, filenames in os.walk('./'):\n",
        "    for filename in filenames:\n",
        "        print(os.path.join(dirname, filename))\n",
        "\n",
        "# You can write up to 20GB to the current directory (/kaggle/working/) that gets preserved as output when you create a version using \"Save & Run All\" \n",
        "# You can also writ"
      ],
      "outputs": [
        {
          "output_type": "stream",
          "name": "stdout",
          "text": "./.amlignore\n./.amlignore.amltmp\n./0.99.ipynb\n./0.99.ipynb.amltmp\n./0.99_orig.ipynb\n./0.99_orig.ipynb.amltmp\n./plot.ipynb\n./plot.ipynb.amltmp\n./predictions.csv\n./substances.csv\n./test.csv\n./train.csv\n./.ipynb_aml_checkpoints/0.99-checkpoint2024-11-18-20-34-41Z.ipynb\n./.ipynb_aml_checkpoints/0.99-checkpoint2024-11-18-21-43-44Z.ipynb\n./.ipynb_aml_checkpoints/0.99-checkpoint2024-11-18-22-31-27Z.ipynb\n./.ipynb_aml_checkpoints/0.99-checkpoint2024-11-18-22-34-50Z.ipynb\n./.ipynb_aml_checkpoints/0.99-checkpoint2024-11-18-22-35-3Z.ipynb\n./.ipynb_aml_checkpoints/0.99-checkpoint2024-11-19-11-31-26Z.ipynb\n./.ipynb_aml_checkpoints/0.99-checkpoint2024-11-19-13-2-6Z.ipynb\n./.ipynb_aml_checkpoints/0.99-checkpoint2024-11-19-14-16-15Z.ipynb\n./.ipynb_aml_checkpoints/0.99-checkpoint2024-11-19-15-18-37Z.ipynb\n./.ipynb_aml_checkpoints/0.99-checkpoint2024-11-19-15-54-1Z.ipynb\n./.ipynb_aml_checkpoints/0.99-checkpoint2024-11-19-16-29-19Z.ipynb\n./.ipynb_aml_checkpoints/0.99-checkpoint2024-11-19-17-15-53Z.ipynb\n./.ipynb_aml_checkpoints/0.99-checkpoint2024-11-19-8-21-51Z.ipynb\n./.ipynb_aml_checkpoints/0.99_orig-checkpoint2024-11-19-11-27-33Z.ipynb\n./.ipynb_aml_checkpoints/0.99_orig-checkpoint2024-11-19-11-33-19Z.ipynb\n./.ipynb_aml_checkpoints/0.99_orig-checkpoint2024-11-19-13-1-46Z.ipynb\n./.ipynb_aml_checkpoints/0.99_orig-checkpoint2024-11-19-15-59-39Z.ipynb\n./.ipynb_aml_checkpoints/0.99_orig-checkpoint2024-11-19-17-6-31Z.ipynb\n./.ipynb_aml_checkpoints/plot-checkpoint2024-11-18-21-23-45Z.ipynb\n./.ipynb_aml_checkpoints/plot-checkpoint2024-11-18-22-9-57Z.ipynb\n./.ipynb_aml_checkpoints/plot-checkpoint2024-11-19-11-33-22Z.ipynb\n./.ipynb_aml_checkpoints/plot-checkpoint2024-11-19-13-53-31Z.ipynb\n./.ipynb_aml_checkpoints/plot-checkpoint2024-11-19-8-33-44Z.ipynb\n"
        }
      ],
      "execution_count": 1,
      "metadata": {
        "trusted": true,
        "execution": {
          "iopub.status.busy": "2024-12-17T18:22:37.504315Z",
          "iopub.execute_input": "2024-12-17T18:22:37.504760Z",
          "iopub.status.idle": "2024-12-17T18:22:37.517679Z",
          "shell.execute_reply.started": "2024-12-17T18:22:37.504723Z",
          "shell.execute_reply": "2024-12-17T18:22:37.516327Z"
        },
        "gather": {
          "logged": 1734628625858
        }
      }
    },
    {
      "cell_type": "code",
      "source": [
        "import torch\n",
        "import torch.nn as nn\n",
        "import torch.optim as optim\n",
        "import torch.nn.functional as F\n",
        "from sklearn.model_selection import GridSearchCV, cross_val_score, RandomizedSearchCV\n",
        "import numpy as np\n",
        "from sklearn.preprocessing import StandardScaler, OneHotEncoder\n",
        "from sklearn.model_selection import train_test_split\n",
        "import pandas as pd\n",
        "from sklearn.base import BaseEstimator, RegressorMixin\n",
        "from sklearn.decomposition import PCA\n",
        "from torch.utils.data import TensorDataset, DataLoader\n",
        "from scipy.stats import uniform, randint, loguniform\n",
        "from sklearn import preprocessing\n",
        "\n",
        "import warnings\n",
        "warnings.filterwarnings(\"ignore\")"
      ],
      "outputs": [],
      "execution_count": 2,
      "metadata": {
        "trusted": true,
        "execution": {
          "iopub.status.busy": "2024-12-18T16:09:20.150910Z",
          "iopub.execute_input": "2024-12-18T16:09:20.152085Z",
          "iopub.status.idle": "2024-12-18T16:09:20.159233Z",
          "shell.execute_reply.started": "2024-12-18T16:09:20.152034Z",
          "shell.execute_reply": "2024-12-18T16:09:20.157822Z"
        },
        "gather": {
          "logged": 1734628627922
        }
      }
    },
    {
      "cell_type": "code",
      "source": [
        "data_train = pd.read_csv(\"./train.csv\")\n",
        "data_test = pd.read_csv(\"./test.csv\")\n",
        "\n",
        "X_train = data_train.iloc[:, 6:].values\n",
        "X_test = data_test.iloc[:, 5:].values"
      ],
      "outputs": [],
      "execution_count": 3,
      "metadata": {
        "trusted": true,
        "execution": {
          "iopub.status.busy": "2024-12-18T16:09:23.035408Z",
          "iopub.execute_input": "2024-12-18T16:09:23.035897Z",
          "iopub.status.idle": "2024-12-18T16:09:23.105241Z",
          "shell.execute_reply.started": "2024-12-18T16:09:23.035854Z",
          "shell.execute_reply": "2024-12-18T16:09:23.104091Z"
        },
        "gather": {
          "logged": 1734628628054
        }
      }
    },
    {
      "cell_type": "code",
      "source": [
        "data_train"
      ],
      "outputs": [
        {
          "output_type": "execute_result",
          "execution_count": 4,
          "data": {
            "text/plain": "          sample_name device_serial  substance_form_display  \\\n0            11140009    M1-1000112      Homogenized Powder   \n1     22.0401-P002.02    M1-1000109  Non homogenized powder   \n2     22.0117-P001.02    M1-1000100  Non homogenized powder   \n3        20.0163-P009      N1-00196             Unspecified   \n4        19.0286-P005      N1-00196             Unspecified   \n...               ...           ...                     ...   \n1295  22.0267-P001.01    M1-1000100      Homogenized Powder   \n1296         11060000    M1-1000144      Homogenized Powder   \n1297     22.0368-P002    M1-1000130      Homogenized Powder   \n1298  22.0342-P002.04    M1-1000109      Homogenized Powder   \n1299  22.0401-P001.04    M1-1000109      Homogenized Powder   \n\n     measure_type_display prod_substance     PURITY     908.1     914.3  \\\n0          Direct contact         Heroin  58.500000  0.044734  0.042720   \n1          Direct contact         Heroin  18.600000  0.063695  0.056980   \n2          Direct contact         Heroin  19.881719  0.050358  0.044910   \n3          Direct contact         Heroin  52.500000  0.525050  0.520434   \n4          Direct contact         Heroin  48.900000  0.479365  0.467401   \n...                   ...            ...        ...       ...       ...   \n1295       Direct contact         Heroin  10.100000  0.107930  0.103983   \n1296       Direct contact         Heroin  44.900000  0.040564  0.041559   \n1297       Direct contact         Heroin  53.400000  0.106459  0.108084   \n1298       Direct contact         Heroin  13.600000  0.075628  0.068853   \n1299       Direct contact         Heroin  19.600000  0.058483  0.051543   \n\n         920.5     926.7  ...    1620.5    1626.6    1632.8      1639  \\\n0     0.041361  0.040055  ...  0.003972  0.007906  0.012490  0.018123   \n1     0.050080  0.043339  ...  0.093002  0.099668  0.108805  0.117120   \n2     0.039148  0.033730  ...  0.083369  0.090485  0.100462  0.109033   \n3     0.517187  0.516377  ...  0.357223  0.370060  0.386062  0.404460   \n4     0.456680  0.446148  ...  0.350973  0.366094  0.384536  0.405034   \n...        ...       ...  ...       ...       ...       ...       ...   \n1295  0.100068  0.096422  ...  0.133917  0.138535  0.145144  0.151008   \n1296  0.042435  0.043870  ... -0.007995 -0.004902 -0.001237  0.003390   \n1297  0.109983  0.109541  ...  0.052178  0.056051  0.060666  0.066257   \n1298  0.062538  0.056079  ...  0.094620  0.101527  0.111090  0.119861   \n1299  0.044479  0.037586  ...  0.082725  0.089156  0.097976  0.106049   \n\n        1645.2    1651.4    1657.6    1663.8      1670    1676.2  \n0     0.025070  0.033235  0.042502  0.052237  0.061383  0.068823  \n1     0.121947  0.125137  0.128688  0.133501  0.138187  0.140248  \n2     0.113411  0.117053  0.121665  0.128366  0.134636  0.136961  \n3     0.425567  0.450527  0.479066  0.508943  0.539349  0.564486  \n4     0.426582  0.450564  0.477045  0.504142  0.531764  0.553650  \n...        ...       ...       ...       ...       ...       ...  \n1295  0.153738  0.155602  0.158525  0.163138  0.167623  0.169048  \n1296  0.009303  0.016472  0.023843  0.031736  0.039568  0.046056  \n1297  0.073435  0.083057  0.094621  0.106288  0.117307  0.126626  \n1298  0.124868  0.128340  0.132605  0.138737  0.144825  0.148246  \n1299  0.110971  0.114777  0.119445  0.125784  0.132106  0.135891  \n\n[1300 rows x 131 columns]",
            "text/html": "<div>\n<style scoped>\n    .dataframe tbody tr th:only-of-type {\n        vertical-align: middle;\n    }\n\n    .dataframe tbody tr th {\n        vertical-align: top;\n    }\n\n    .dataframe thead th {\n        text-align: right;\n    }\n</style>\n<table border=\"1\" class=\"dataframe\">\n  <thead>\n    <tr style=\"text-align: right;\">\n      <th></th>\n      <th>sample_name</th>\n      <th>device_serial</th>\n      <th>substance_form_display</th>\n      <th>measure_type_display</th>\n      <th>prod_substance</th>\n      <th>PURITY</th>\n      <th>908.1</th>\n      <th>914.3</th>\n      <th>920.5</th>\n      <th>926.7</th>\n      <th>...</th>\n      <th>1620.5</th>\n      <th>1626.6</th>\n      <th>1632.8</th>\n      <th>1639</th>\n      <th>1645.2</th>\n      <th>1651.4</th>\n      <th>1657.6</th>\n      <th>1663.8</th>\n      <th>1670</th>\n      <th>1676.2</th>\n    </tr>\n  </thead>\n  <tbody>\n    <tr>\n      <th>0</th>\n      <td>11140009</td>\n      <td>M1-1000112</td>\n      <td>Homogenized Powder</td>\n      <td>Direct contact</td>\n      <td>Heroin</td>\n      <td>58.500000</td>\n      <td>0.044734</td>\n      <td>0.042720</td>\n      <td>0.041361</td>\n      <td>0.040055</td>\n      <td>...</td>\n      <td>0.003972</td>\n      <td>0.007906</td>\n      <td>0.012490</td>\n      <td>0.018123</td>\n      <td>0.025070</td>\n      <td>0.033235</td>\n      <td>0.042502</td>\n      <td>0.052237</td>\n      <td>0.061383</td>\n      <td>0.068823</td>\n    </tr>\n    <tr>\n      <th>1</th>\n      <td>22.0401-P002.02</td>\n      <td>M1-1000109</td>\n      <td>Non homogenized powder</td>\n      <td>Direct contact</td>\n      <td>Heroin</td>\n      <td>18.600000</td>\n      <td>0.063695</td>\n      <td>0.056980</td>\n      <td>0.050080</td>\n      <td>0.043339</td>\n      <td>...</td>\n      <td>0.093002</td>\n      <td>0.099668</td>\n      <td>0.108805</td>\n      <td>0.117120</td>\n      <td>0.121947</td>\n      <td>0.125137</td>\n      <td>0.128688</td>\n      <td>0.133501</td>\n      <td>0.138187</td>\n      <td>0.140248</td>\n    </tr>\n    <tr>\n      <th>2</th>\n      <td>22.0117-P001.02</td>\n      <td>M1-1000100</td>\n      <td>Non homogenized powder</td>\n      <td>Direct contact</td>\n      <td>Heroin</td>\n      <td>19.881719</td>\n      <td>0.050358</td>\n      <td>0.044910</td>\n      <td>0.039148</td>\n      <td>0.033730</td>\n      <td>...</td>\n      <td>0.083369</td>\n      <td>0.090485</td>\n      <td>0.100462</td>\n      <td>0.109033</td>\n      <td>0.113411</td>\n      <td>0.117053</td>\n      <td>0.121665</td>\n      <td>0.128366</td>\n      <td>0.134636</td>\n      <td>0.136961</td>\n    </tr>\n    <tr>\n      <th>3</th>\n      <td>20.0163-P009</td>\n      <td>N1-00196</td>\n      <td>Unspecified</td>\n      <td>Direct contact</td>\n      <td>Heroin</td>\n      <td>52.500000</td>\n      <td>0.525050</td>\n      <td>0.520434</td>\n      <td>0.517187</td>\n      <td>0.516377</td>\n      <td>...</td>\n      <td>0.357223</td>\n      <td>0.370060</td>\n      <td>0.386062</td>\n      <td>0.404460</td>\n      <td>0.425567</td>\n      <td>0.450527</td>\n      <td>0.479066</td>\n      <td>0.508943</td>\n      <td>0.539349</td>\n      <td>0.564486</td>\n    </tr>\n    <tr>\n      <th>4</th>\n      <td>19.0286-P005</td>\n      <td>N1-00196</td>\n      <td>Unspecified</td>\n      <td>Direct contact</td>\n      <td>Heroin</td>\n      <td>48.900000</td>\n      <td>0.479365</td>\n      <td>0.467401</td>\n      <td>0.456680</td>\n      <td>0.446148</td>\n      <td>...</td>\n      <td>0.350973</td>\n      <td>0.366094</td>\n      <td>0.384536</td>\n      <td>0.405034</td>\n      <td>0.426582</td>\n      <td>0.450564</td>\n      <td>0.477045</td>\n      <td>0.504142</td>\n      <td>0.531764</td>\n      <td>0.553650</td>\n    </tr>\n    <tr>\n      <th>...</th>\n      <td>...</td>\n      <td>...</td>\n      <td>...</td>\n      <td>...</td>\n      <td>...</td>\n      <td>...</td>\n      <td>...</td>\n      <td>...</td>\n      <td>...</td>\n      <td>...</td>\n      <td>...</td>\n      <td>...</td>\n      <td>...</td>\n      <td>...</td>\n      <td>...</td>\n      <td>...</td>\n      <td>...</td>\n      <td>...</td>\n      <td>...</td>\n      <td>...</td>\n      <td>...</td>\n    </tr>\n    <tr>\n      <th>1295</th>\n      <td>22.0267-P001.01</td>\n      <td>M1-1000100</td>\n      <td>Homogenized Powder</td>\n      <td>Direct contact</td>\n      <td>Heroin</td>\n      <td>10.100000</td>\n      <td>0.107930</td>\n      <td>0.103983</td>\n      <td>0.100068</td>\n      <td>0.096422</td>\n      <td>...</td>\n      <td>0.133917</td>\n      <td>0.138535</td>\n      <td>0.145144</td>\n      <td>0.151008</td>\n      <td>0.153738</td>\n      <td>0.155602</td>\n      <td>0.158525</td>\n      <td>0.163138</td>\n      <td>0.167623</td>\n      <td>0.169048</td>\n    </tr>\n    <tr>\n      <th>1296</th>\n      <td>11060000</td>\n      <td>M1-1000144</td>\n      <td>Homogenized Powder</td>\n      <td>Direct contact</td>\n      <td>Heroin</td>\n      <td>44.900000</td>\n      <td>0.040564</td>\n      <td>0.041559</td>\n      <td>0.042435</td>\n      <td>0.043870</td>\n      <td>...</td>\n      <td>-0.007995</td>\n      <td>-0.004902</td>\n      <td>-0.001237</td>\n      <td>0.003390</td>\n      <td>0.009303</td>\n      <td>0.016472</td>\n      <td>0.023843</td>\n      <td>0.031736</td>\n      <td>0.039568</td>\n      <td>0.046056</td>\n    </tr>\n    <tr>\n      <th>1297</th>\n      <td>22.0368-P002</td>\n      <td>M1-1000130</td>\n      <td>Homogenized Powder</td>\n      <td>Direct contact</td>\n      <td>Heroin</td>\n      <td>53.400000</td>\n      <td>0.106459</td>\n      <td>0.108084</td>\n      <td>0.109983</td>\n      <td>0.109541</td>\n      <td>...</td>\n      <td>0.052178</td>\n      <td>0.056051</td>\n      <td>0.060666</td>\n      <td>0.066257</td>\n      <td>0.073435</td>\n      <td>0.083057</td>\n      <td>0.094621</td>\n      <td>0.106288</td>\n      <td>0.117307</td>\n      <td>0.126626</td>\n    </tr>\n    <tr>\n      <th>1298</th>\n      <td>22.0342-P002.04</td>\n      <td>M1-1000109</td>\n      <td>Homogenized Powder</td>\n      <td>Direct contact</td>\n      <td>Heroin</td>\n      <td>13.600000</td>\n      <td>0.075628</td>\n      <td>0.068853</td>\n      <td>0.062538</td>\n      <td>0.056079</td>\n      <td>...</td>\n      <td>0.094620</td>\n      <td>0.101527</td>\n      <td>0.111090</td>\n      <td>0.119861</td>\n      <td>0.124868</td>\n      <td>0.128340</td>\n      <td>0.132605</td>\n      <td>0.138737</td>\n      <td>0.144825</td>\n      <td>0.148246</td>\n    </tr>\n    <tr>\n      <th>1299</th>\n      <td>22.0401-P001.04</td>\n      <td>M1-1000109</td>\n      <td>Homogenized Powder</td>\n      <td>Direct contact</td>\n      <td>Heroin</td>\n      <td>19.600000</td>\n      <td>0.058483</td>\n      <td>0.051543</td>\n      <td>0.044479</td>\n      <td>0.037586</td>\n      <td>...</td>\n      <td>0.082725</td>\n      <td>0.089156</td>\n      <td>0.097976</td>\n      <td>0.106049</td>\n      <td>0.110971</td>\n      <td>0.114777</td>\n      <td>0.119445</td>\n      <td>0.125784</td>\n      <td>0.132106</td>\n      <td>0.135891</td>\n    </tr>\n  </tbody>\n</table>\n<p>1300 rows × 131 columns</p>\n</div>"
          },
          "metadata": {}
        }
      ],
      "execution_count": 4,
      "metadata": {
        "jupyter": {
          "source_hidden": false,
          "outputs_hidden": false
        },
        "nteract": {
          "transient": {
            "deleting": false
          }
        },
        "gather": {
          "logged": 1734628628201
        }
      }
    },
    {
      "cell_type": "code",
      "source": [
        "pca = PCA()\n",
        "scaler = StandardScaler() #scale before pca\n",
        "pca.fit(scaler.fit_transform(X_train))\n",
        "cumvariance = np.cumsum(pca.explained_variance_ratio_)\n",
        "cumvariance"
      ],
      "outputs": [
        {
          "output_type": "execute_result",
          "execution_count": 5,
          "data": {
            "text/plain": "array([0.89483039, 0.98432745, 0.99708348, 0.99918118, 0.99964032,\n       0.99976243, 0.99985849, 0.99991471, 0.99994053, 0.9999607 ,\n       0.99997248, 0.99998097, 0.99998545, 0.99998914, 0.99999149,\n       0.99999344, 0.99999478, 0.99999564, 0.99999645, 0.99999708,\n       0.99999756, 0.99999796, 0.99999829, 0.99999856, 0.99999879,\n       0.99999896, 0.99999906, 0.99999915, 0.99999923, 0.99999929,\n       0.99999934, 0.99999939, 0.99999944, 0.99999948, 0.99999951,\n       0.99999954, 0.99999957, 0.9999996 , 0.99999962, 0.99999965,\n       0.99999967, 0.99999969, 0.99999971, 0.99999972, 0.99999974,\n       0.99999976, 0.99999977, 0.99999978, 0.9999998 , 0.99999981,\n       0.99999982, 0.99999983, 0.99999984, 0.99999985, 0.99999986,\n       0.99999986, 0.99999987, 0.99999988, 0.99999989, 0.99999989,\n       0.9999999 , 0.9999999 , 0.99999991, 0.99999991, 0.99999992,\n       0.99999992, 0.99999993, 0.99999993, 0.99999994, 0.99999994,\n       0.99999994, 0.99999995, 0.99999995, 0.99999995, 0.99999995,\n       0.99999996, 0.99999996, 0.99999996, 0.99999996, 0.99999996,\n       0.99999997, 0.99999997, 0.99999997, 0.99999997, 0.99999997,\n       0.99999998, 0.99999998, 0.99999998, 0.99999998, 0.99999998,\n       0.99999998, 0.99999998, 0.99999998, 0.99999999, 0.99999999,\n       0.99999999, 0.99999999, 0.99999999, 0.99999999, 0.99999999,\n       0.99999999, 0.99999999, 0.99999999, 0.99999999, 0.99999999,\n       0.99999999, 1.        , 1.        , 1.        , 1.        ,\n       1.        , 1.        , 1.        , 1.        , 1.        ,\n       1.        , 1.        , 1.        , 1.        , 1.        ,\n       1.        , 1.        , 1.        , 1.        , 1.        ])"
          },
          "metadata": {}
        }
      ],
      "execution_count": 5,
      "metadata": {
        "jupyter": {
          "source_hidden": false,
          "outputs_hidden": false
        },
        "nteract": {
          "transient": {
            "deleting": false
          }
        },
        "gather": {
          "logged": 1734628628441
        }
      }
    },
    {
      "cell_type": "code",
      "source": [
        "# keep 99% of variance\n",
        "#n_comp = np.where(cumvariance>0.99)[0][0]\n",
        "#n_comp"
      ],
      "outputs": [],
      "execution_count": 6,
      "metadata": {
        "jupyter": {
          "source_hidden": false,
          "outputs_hidden": false
        },
        "nteract": {
          "transient": {
            "deleting": false
          }
        },
        "gather": {
          "logged": 1734628628598
        }
      }
    },
    {
      "cell_type": "code",
      "source": [
        "# pure = pd.read_csv(\"./substances.csv\")\n",
        "# #pure = pure[pure[\"substance\"].str.contains(\"heroin\")]\n",
        "# pure = pure.iloc[:,1:].values\n",
        "# pure.shape"
      ],
      "outputs": [],
      "execution_count": 7,
      "metadata": {
        "jupyter": {
          "source_hidden": false,
          "outputs_hidden": false
        },
        "nteract": {
          "transient": {
            "deleting": false
          }
        },
        "gather": {
          "logged": 1734628628714
        }
      }
    },
    {
      "cell_type": "code",
      "source": [
        "# X_normalized = preprocessing.normalize(X_train, axis=1)\n",
        "# pure_normalized = preprocessing.normalize(pure, axis=1)"
      ],
      "outputs": [],
      "execution_count": 8,
      "metadata": {
        "jupyter": {
          "source_hidden": false,
          "outputs_hidden": false
        },
        "nteract": {
          "transient": {
            "deleting": false
          }
        },
        "gather": {
          "logged": 1734628628838
        }
      }
    },
    {
      "cell_type": "code",
      "source": [
        "# X_normalized.shape"
      ],
      "outputs": [],
      "execution_count": 9,
      "metadata": {
        "jupyter": {
          "source_hidden": false,
          "outputs_hidden": false
        },
        "nteract": {
          "transient": {
            "deleting": false
          }
        },
        "gather": {
          "logged": 1734628628953
        }
      }
    },
    {
      "cell_type": "code",
      "source": [
        "# X_normalized = X_normalized @ pure_normalized.T\n",
        "# X_normalized.shape"
      ],
      "outputs": [],
      "execution_count": 10,
      "metadata": {
        "jupyter": {
          "source_hidden": false,
          "outputs_hidden": false
        },
        "nteract": {
          "transient": {
            "deleting": false
          }
        },
        "gather": {
          "logged": 1734628629067
        }
      }
    },
    {
      "cell_type": "code",
      "source": [
        "# pca = PCA()\n",
        "# pca.fit(X_normalized)\n",
        "# np.cumsum(pca.explained_variance_ratio_)"
      ],
      "outputs": [],
      "execution_count": 11,
      "metadata": {
        "jupyter": {
          "source_hidden": false,
          "outputs_hidden": false
        },
        "nteract": {
          "transient": {
            "deleting": false
          }
        },
        "gather": {
          "logged": 1734628629198
        }
      }
    },
    {
      "cell_type": "code",
      "source": [
        "y = data_train.iloc[:,5:6].values/100\n",
        "y.shape"
      ],
      "outputs": [
        {
          "output_type": "execute_result",
          "execution_count": 12,
          "data": {
            "text/plain": "(1300, 1)"
          },
          "metadata": {}
        }
      ],
      "execution_count": 12,
      "metadata": {
        "jupyter": {
          "source_hidden": false,
          "outputs_hidden": false
        },
        "nteract": {
          "transient": {
            "deleting": false
          }
        },
        "gather": {
          "logged": 1734628629388
        }
      }
    },
    {
      "cell_type": "code",
      "source": [
        "\n",
        "seed = 43\n",
        "\"\"\"\n",
        "# Combine original data with PCA components\n",
        "standardizer = StandardScaler()\n",
        "X_st = standardizer.fit_transform(X_train)\n",
        "\"\"\"\n",
        "\n",
        "# Standardisation des données (avant PCA)\n",
        "scaler = StandardScaler()\n",
        "X_train = scaler.fit_transform(X_train)\n",
        "X_test = scaler.transform(X_test)\n",
        "\n",
        "\n",
        "## Perform PCA \n",
        "pca = PCA()\n",
        "X_train= pca.fit_transform(X_train)\n",
        "X_test = pca.transform(X_test)\n",
        "\n",
        "#X_normalized = preprocessing.normalize(X_pca)\n",
        "#X_normalized = X_train\n",
        "\n",
        "\n",
        "\n",
        "#X_train, X_valid, y_train, y_valid = train_test_split(X_normalized, y, test_size=0.2, random_state = 42)\n",
        "\n",
        "# Convert to tensors\n",
        "#X_train_tensor = torch.tensor(X_train, dtype=torch.float32).clone().detach()\n",
        "#y_train_tensor = torch.tensor(y_train.values, dtype=torch.float32).reshape(-1, 1).clone().detach()\n",
        "#X_valid_tensor = torch.tensor(X_valid, dtype=torch.float32).clone().detach()\n",
        "#y_valid_tensor = torch.tensor(y_valid.values, dtype=torch.float32).reshape(-1, 1).clone().detach()"
      ],
      "outputs": [],
      "execution_count": 13,
      "metadata": {
        "trusted": true,
        "execution": {
          "iopub.status.busy": "2024-12-18T16:09:26.284698Z",
          "iopub.execute_input": "2024-12-18T16:09:26.285133Z",
          "iopub.status.idle": "2024-12-18T16:09:26.740096Z",
          "shell.execute_reply.started": "2024-12-18T16:09:26.285094Z",
          "shell.execute_reply": "2024-12-18T16:09:26.738862Z"
        },
        "gather": {
          "logged": 1734628629551
        }
      }
    },
    {
      "cell_type": "code",
      "source": [
        "X_train"
      ],
      "outputs": [
        {
          "output_type": "execute_result",
          "execution_count": 14,
          "data": {
            "text/plain": "array([[-4.00028256e+00, -3.42618089e+00,  3.11611074e-01, ...,\n        -8.72434355e-05,  5.62935897e-05, -8.33068381e-05],\n       [-2.26440251e+00, -4.57058600e-01, -8.12102112e-01, ...,\n         6.63679017e-06, -6.25942360e-06,  1.09093150e-04],\n       [-3.08935772e+00, -5.98678213e-01, -7.18662885e-01, ...,\n        -2.12820618e-04,  3.26064102e-05,  1.47445781e-04],\n       ...,\n       [ 2.28568412e+00, -3.76359106e+00,  4.25107901e-01, ...,\n        -2.33480405e-05, -2.05388898e-04, -6.43270285e-05],\n       [-1.81250742e+00, -5.65106786e-01, -5.37556900e-01, ...,\n         1.79559475e-04,  2.19990433e-05,  6.85000964e-05],\n       [-3.00206406e+00, -5.71250127e-01, -7.41033143e-01, ...,\n        -5.64405609e-05, -4.97562466e-05,  4.17144131e-05]])"
          },
          "metadata": {}
        }
      ],
      "execution_count": 14,
      "metadata": {
        "jupyter": {
          "source_hidden": false,
          "outputs_hidden": false
        },
        "nteract": {
          "transient": {
            "deleting": false
          }
        },
        "gather": {
          "logged": 1734628629791
        }
      }
    },
    {
      "cell_type": "code",
      "source": [
        "y_train = y\n",
        "y_train"
      ],
      "outputs": [
        {
          "output_type": "execute_result",
          "execution_count": 15,
          "data": {
            "text/plain": "array([[0.585     ],\n       [0.186     ],\n       [0.19881719],\n       ...,\n       [0.534     ],\n       [0.136     ],\n       [0.196     ]])"
          },
          "metadata": {}
        }
      ],
      "execution_count": 15,
      "metadata": {
        "jupyter": {
          "source_hidden": false,
          "outputs_hidden": false
        },
        "nteract": {
          "transient": {
            "deleting": false
          }
        },
        "gather": {
          "logged": 1734628629974
        }
      }
    },
    {
      "cell_type": "code",
      "source": [
        "#X_pca = pca.transform(X_test)\n",
        "#X_test_normalized = preprocessing.normalize(X_pca)\n",
        "#X_test_normalized = X_test\n",
        "#X_test_tensor = torch.tensor(X_test_normalised, dtype=torch.float32).clone().detach() \n",
        "\n",
        "# X_test_normalized = preprocessing.normalize(X_test.values, axis=1)\n",
        "# X_test_normalized = X_test_normalized @ pure_normalized.T\n",
        "# X_test_normalized.shape"
      ],
      "outputs": [],
      "execution_count": 16,
      "metadata": {
        "trusted": true,
        "execution": {
          "iopub.status.busy": "2024-12-18T16:09:31.429240Z",
          "iopub.execute_input": "2024-12-18T16:09:31.429856Z",
          "iopub.status.idle": "2024-12-18T16:09:31.447658Z",
          "shell.execute_reply.started": "2024-12-18T16:09:31.429794Z",
          "shell.execute_reply": "2024-12-18T16:09:31.444833Z"
        },
        "gather": {
          "logged": 1734628630137
        }
      }
    },
    {
      "cell_type": "code",
      "source": [
        "def my_loss(output, target):\n",
        "    loss = torch.maximum(torch.zeros_like(output),(output - target)-.05) + torch.maximum(torch.zeros_like(output),(target - output)-.05)\n",
        "    return torch.mean(loss)"
      ],
      "outputs": [],
      "execution_count": 17,
      "metadata": {
        "jupyter": {
          "source_hidden": false,
          "outputs_hidden": false
        },
        "nteract": {
          "transient": {
            "deleting": false
          }
        },
        "gather": {
          "logged": 1734628630294
        }
      }
    },
    {
      "cell_type": "code",
      "source": [
        "# Définir le modèle de réseau de neurones simple\n",
        "\n",
        "class FeedForwardNN(nn.Module):\n",
        "\n",
        "    def __init__(self, input_size, lin_layer_sizes,\n",
        "\n",
        "                 outpout_size, lin_layer_dropouts, activation):\n",
        "        super().__init__()       \n",
        "        if activation == 0:\n",
        "            self.activation = nn.ReLU()\n",
        "        elif activation == 1:\n",
        "            self.activation = nn.SiLU()\n",
        "        elif activation == 2:\n",
        "            self.activation = nn.Tanh()\n",
        "        elif activation == 3:\n",
        "            self.activation = nn.LeakyReLU()  \n",
        "\n",
        "        self.input_size = input_size\n",
        "\n",
        "        # Linear Layers\n",
        "        first_lin_layer = nn.Linear(input_size, lin_layer_sizes[0])\n",
        "        self.lin_layers = nn.ModuleList([first_lin_layer] + [nn.Linear(lin_layer_sizes[i], lin_layer_sizes[i + 1]) for i in range(len(lin_layer_sizes) - 1)])     \n",
        "\n",
        "        # Output Layer\n",
        "        self.outpout_layer = nn.Linear(lin_layer_sizes[-1], outpout_size)\n",
        "        \n",
        "        # Dropout Layers\n",
        "        self.dropout_layers = nn.ModuleList([nn.Dropout(rate) for rate,size in zip(lin_layer_dropouts,lin_layer_sizes)])\n",
        "\n",
        "    def forward(self, x):\n",
        "        for lin_layer, dropout_layer in zip(self.lin_layers, self.dropout_layers):\n",
        "            x = lin_layer(x)     \n",
        "            x = self.activation(x)\n",
        "            x = dropout_layer(x)\n",
        " \n",
        "        x = self.outpout_layer(x)\n",
        "        x = nn.Sigmoid()(x)\n",
        "  \n",
        "        return x\n",
        "\n",
        "# Définir la classe NeuralNetRegressor\n",
        "class NeuralNetRegressor(BaseEstimator, RegressorMixin):\n",
        "\n",
        "    def __init__(self, input_size, random_state, eta=0.001, max_epochs=100, batch=10, lin_layer_sizes = [50, 50],\n",
        "            outpout_size = 1, lin_layer_dropouts = [0.4, 0.4], activation = 0, loss=0, n_comp=None):\n",
        "\n",
        "        self.input_size = input_size\n",
        "        self.random_state = random_state\n",
        "        self.eta = eta\n",
        "        self.max_epochs = max_epochs\n",
        "        self.batch = batch\n",
        "        self.lin_layer_sizes = lin_layer_sizes\n",
        "        self.outpout_size = outpout_size\n",
        "        self.lin_layer_dropouts = lin_layer_dropouts\n",
        "        self.activation = activation\n",
        "        self.model = None\n",
        "\n",
        "        self.n_comp = n_comp\n",
        "\n",
        "        self.loss = loss\n",
        "       \n",
        "    def fit(self, X, y, do_print=False,X_valid=None, y_valid=None ):\n",
        "        #print(\"self.eta\",self.eta)\n",
        "        #print(\"X\",X.shape)\n",
        "        #print(\"Y\",y.shape)\n",
        "\n",
        "        if self.n_comp is not None:\n",
        "            print(\"n_comp\", self.n_comp)\n",
        "            self.input_size = self.n_comp\n",
        "\n",
        "        #print(\"FITTING\")\n",
        "        if self.loss==0:\n",
        "            self.criterion = nn.MSELoss()\n",
        "        elif self.loss==1:\n",
        "            self.criterion = nn.L1Loss()\n",
        "        else:\n",
        "            self.criterion = my_loss\n",
        "\n",
        "        self.model = FeedForwardNN(self.input_size, self.lin_layer_sizes,\n",
        "                 self.outpout_size, self.lin_layer_dropouts, self.activation)\n",
        "\n",
        "\n",
        "        #print(\"n_comp\", self.n_comp)\n",
        "        if self.n_comp is not None:\n",
        "            X = X[:,:self.n_comp]\n",
        "\n",
        "        #print(\"shape\", X.shape)\n",
        "        \n",
        "        #print(\"model\", self.model)\n",
        "\n",
        "        optimizer = optim.Adam(self.model.parameters(), lr=self.eta)\n",
        "        X_tensor = torch.tensor(X).clone().detach().float()\n",
        "        y_tensor = torch.tensor(y).clone().detach().float()\n",
        "        dataset = TensorDataset(X_tensor, y_tensor)\n",
        "        dataloader = DataLoader(dataset, batch_size=self.batch, shuffle=True)\n",
        "        self.model.train()\n",
        "\n",
        "        if X_valid is not None:\n",
        "            X_valid = torch.tensor(X_valid).clone().detach().float()\n",
        "            y_valid = torch.tensor(y_valid).clone().detach().float()\n",
        "\n",
        "        # Training loop\n",
        "        for epoch in range(self.max_epochs):\n",
        "\n",
        "            epoch_loss = 0.0\n",
        "            for batch_X, batch_y in dataloader:\n",
        "                optimizer.zero_grad()  # Reset gradients\n",
        "                outputs = self.model(batch_X)  # Forward pass\n",
        "                loss = self.criterion(outputs, batch_y)  # Compute loss\n",
        "                loss.backward()  # Backward pass\n",
        "                optimizer.step()  # Update parameters\n",
        "                epoch_loss += loss.item()\n",
        "            if do_print and X_valid is not None:\n",
        "                outputs = self.model(X_valid)  # Forward pass\n",
        "                valid_loss = self.criterion(outputs, y_valid)  # Compute loss\n",
        "                print(f\"Epoch {epoch+1}/{self.max_epochs}, Loss: {epoch_loss / len(dataloader)}, Valid_loss: {valid_loss}\")\n",
        "\n",
        "            elif do_print:\n",
        "                print(f\"Epoch {epoch+1}/{self.max_epochs}, Loss: {epoch_loss / len(dataloader)}\")\n",
        "\n",
        "        return self  \n",
        "\n",
        "    def predict(self, X):\n",
        "        self.model.eval()\n",
        "        print(\"n_comp\", self.n_comp)\n",
        "        if self.n_comp is not None:\n",
        "            X = X[:,:self.n_comp]\n",
        "\n",
        "        X_tensor = torch.tensor(X, dtype=torch.float32)\n",
        "        with torch.no_grad():\n",
        "            outputs = self.model(X_tensor)\n",
        "        return outputs.numpy()\n",
        "        \n",
        "    def parameters(self):\n",
        "        return self.model.parameters()"
      ],
      "outputs": [],
      "execution_count": 18,
      "metadata": {
        "trusted": true,
        "execution": {
          "iopub.status.busy": "2024-12-18T17:12:26.917904Z",
          "iopub.execute_input": "2024-12-18T17:12:26.918396Z",
          "iopub.status.idle": "2024-12-18T17:12:26.939464Z",
          "shell.execute_reply.started": "2024-12-18T17:12:26.918354Z",
          "shell.execute_reply": "2024-12-18T17:12:26.938046Z"
        },
        "gather": {
          "logged": 1734628630427
        }
      }
    },
    {
      "cell_type": "code",
      "source": [
        "class RandomLayers:\n",
        "    def __init__(self,min_layers, max_layers, min_nodes, max_nodes):\n",
        "        self.min_nodes = min_nodes\n",
        "        self.max_nodes = max_nodes\n",
        "        self.min_layers = min_layers\n",
        "        self.max_layers = max_layers\n",
        "\n",
        "    def rvs(self, random_state=None):\n",
        "        if random_state is not None:\n",
        "            prev = randint.random_state\n",
        "            randint.random_state = random_state \n",
        "\n",
        "        nodes = randint.rvs(self.min_nodes, self.max_nodes)\n",
        "        res = [nodes for _ in range(randint.rvs(self.min_layers, self.max_layers))]\n",
        "\n",
        "        if random_state is not None:\n",
        "            randint.random_state = prev\n",
        "\n",
        "        return res"
      ],
      "outputs": [],
      "execution_count": 19,
      "metadata": {
        "trusted": true,
        "execution": {
          "iopub.status.busy": "2024-12-18T16:11:58.518750Z",
          "iopub.execute_input": "2024-12-18T16:11:58.519266Z",
          "iopub.status.idle": "2024-12-18T16:11:58.526839Z",
          "shell.execute_reply.started": "2024-12-18T16:11:58.519225Z",
          "shell.execute_reply": "2024-12-18T16:11:58.525704Z"
        },
        "gather": {
          "logged": 1734628630630
        }
      }
    },
    {
      "cell_type": "code",
      "source": [
        "class RandomDropout:\n",
        "    def __init__(self, max_layers,min_dropout,max_dropout):\n",
        "        self.min_dropout = min_dropout\n",
        "        self.max_dropout = max_dropout\n",
        "        self.max_layers = max_layers\n",
        "\n",
        "    def rvs(self, random_state=None):\n",
        "        if random_state is not None:\n",
        "            prev = uniform.random_state\n",
        "            uniform.random_state = random_state \n",
        "        dropout = uniform.rvs(self.min_dropout, self.max_dropout)\n",
        "        res = [dropout for _ in range(self.max_layers)]\n",
        "\n",
        "        if random_state is not None:\n",
        "            uniform.random_state = prev\n",
        "\n",
        "        return res"
      ],
      "outputs": [],
      "execution_count": 20,
      "metadata": {
        "trusted": true,
        "execution": {
          "iopub.status.busy": "2024-12-18T16:12:01.048945Z",
          "iopub.execute_input": "2024-12-18T16:12:01.049358Z",
          "iopub.status.idle": "2024-12-18T16:12:01.056862Z",
          "shell.execute_reply.started": "2024-12-18T16:12:01.049313Z",
          "shell.execute_reply": "2024-12-18T16:12:01.055552Z"
        },
        "gather": {
          "logged": 1734628630769
        }
      }
    },
    {
      "cell_type": "code",
      "source": [
        "\n",
        "def my_custom_score(ground_truth, predictions):\n",
        "    return np.mean(np.abs(predictions-ground_truth)*100<=5)\n",
        "\n",
        "\n",
        "from sklearn.metrics import make_scorer\n",
        "\n",
        "scorer = make_scorer(my_custom_score, greater_is_better=True)"
      ],
      "outputs": [],
      "execution_count": 21,
      "metadata": {
        "jupyter": {
          "source_hidden": false,
          "outputs_hidden": false
        },
        "nteract": {
          "transient": {
            "deleting": false
          }
        },
        "gather": {
          "logged": 1734628630893
        }
      }
    },
    {
      "cell_type": "code",
      "source": [
        "# Initialiser le modèle\n",
        "\n",
        "seed = 42\n",
        "np.random.seed(seed)\n",
        "torch.manual_seed(seed)\n",
        "input_size = X_train.shape[1]\n",
        "net = NeuralNetRegressor(input_size=input_size, random_state=seed)\n",
        "\n",
        "max_layers = 5\n",
        "\n",
        "# Définir les paramètres pour GridSearch\n",
        "params_dist = {\n",
        "\n",
        "    'eta': loguniform(1e-4, 1e-1),\n",
        "    'max_epochs': randint(10, 500),\n",
        "    'batch': randint(8, 64),\n",
        "    'lin_layer_sizes': RandomLayers(1,max_layers,4,256),  # Taille de 1 à 4 couches, entre 4 et 256 neurones par couche\n",
        "    'lin_layer_dropouts': RandomDropout(max_layers,0.,.5),\n",
        "    'activation': randint(0, 4),\n",
        "    'loss': randint(0, 3),\n",
        "    'n_comp': randint(1, X_train.shape[1]),\n",
        "}\n",
        "\n",
        "# Initialiser RandomizedSearchCV\n",
        "random_search = RandomizedSearchCV(net, params_dist, refit=True, cv=10, random_state=seed, scoring=scorer, verbose=3, n_iter=120, n_jobs=-2)\n",
        "\n",
        "# Entraîner le modèle avec GridSearch\n",
        "random_grid_result = random_search.fit(X_train, y_train)\n",
        "nouveau_model = random_grid_result.best_estimator_\n",
        "print(\"Best score: %f using %s\" % (random_grid_result.best_score_, random_grid_result.best_params_))"
      ],
      "outputs": [
        {
          "output_type": "stream",
          "name": "stdout",
          "text": "Fitting 10 folds for each of 120 candidates, totalling 1200 fits\n"
        }
      ],
      "execution_count": 22,
      "metadata": {
        "trusted": true,
        "execution": {
          "iopub.status.busy": "2024-12-18T17:12:50.791447Z",
          "iopub.execute_input": "2024-12-18T17:12:50.791927Z"
        },
        "gather": {
          "logged": 1734628541671
        }
      }
    },
    {
      "cell_type": "code",
      "source": [
        "# from matplotlib import pyplot as plt\n",
        "# def plot_search_results(grid):\n",
        "#     \"\"\"\n",
        "#     Params: \n",
        "#         grid: A trained GridSearchCV object.\n",
        "#     \"\"\"\n",
        "#     ## Results from grid search\n",
        "#     results = grid.cv_results_\n",
        "#     means_test = results['mean_test_score']\n",
        "#     stds_test = results['std_test_score']\n",
        "#     #means_train = results['mean_train_score']\n",
        "#     #stds_train = results['std_train_score']\n",
        "\n",
        "#     ## Getting indexes of values per hyper-parameter\n",
        "#     masks=[]\n",
        "#     masks_names= list(grid.best_params_.keys())\n",
        "#     for p_k, p_v in grid.best_params_.items():\n",
        "#         masks.append(list(results['param_'+p_k].data==p_v))\n",
        "\n",
        "#     params=grid.param_grid\n",
        "\n",
        "#     ## Ploting results\n",
        "#     fig, ax = plt.subplots(1,len(params),sharex='none', sharey='all',figsize=(20,5))\n",
        "#     fig.suptitle('Score per parameter')\n",
        "#     fig.text(0.04, 0.5, 'MEAN SCORE', va='center', rotation='vertical')\n",
        "#     pram_preformace_in_best = {}\n",
        "#     for i, p in enumerate(masks_names):\n",
        "#         m = np.stack(masks[:i] + masks[i+1:])\n",
        "#         pram_preformace_in_best\n",
        "#         best_parms_mask = m.all(axis=0)\n",
        "#         best_index = np.where(best_parms_mask)[0]\n",
        "#         x = np.array(params[p])\n",
        "#         y_1 = np.array(means_test[best_index])\n",
        "#         e_1 = np.array(stds_test[best_index])\n",
        "#         #y_2 = np.array(means_train[best_index])\n",
        "#         #e_2 = np.array(stds_train[best_index])\n",
        "#         ax[i].errorbar(x, y_1, e_1, linestyle='--', marker='o', label='test')\n",
        "#         #ax[i].errorbar(x, y_2, e_2, linestyle='-', marker='^',label='train' )\n",
        "#         ax[i].set_xlabel(p.upper())\n",
        "\n",
        "#     plt.legend()\n",
        "#     plt.show()"
      ],
      "outputs": [],
      "execution_count": null,
      "metadata": {
        "jupyter": {
          "source_hidden": false,
          "outputs_hidden": false
        },
        "nteract": {
          "transient": {
            "deleting": false
          }
        },
        "gather": {
          "logged": 1734624408280
        }
      }
    },
    {
      "cell_type": "code",
      "source": [
        "# plot_search_results(random_search)"
      ],
      "outputs": [],
      "execution_count": null,
      "metadata": {
        "jupyter": {
          "source_hidden": false,
          "outputs_hidden": false
        },
        "nteract": {
          "transient": {
            "deleting": false
          }
        },
        "gather": {
          "logged": 1734624409666
        }
      }
    },
    {
      "cell_type": "code",
      "source": [
        "random_search.best_params_"
      ],
      "outputs": [
        {
          "output_type": "execute_result",
          "execution_count": 37,
          "data": {
            "text/plain": "{'activation': 3,\n 'batch': 27,\n 'eta': 0.00022722376351800997,\n 'lin_layer_dropouts': [0.05876312338855244,\n  0.05876312338855244,\n  0.05876312338855244,\n  0.05876312338855244,\n  0.05876312338855244],\n 'lin_layer_sizes': [108, 108, 108],\n 'loss': 0,\n 'max_epochs': 396,\n 'n_comp': 77}"
          },
          "metadata": {}
        }
      ],
      "execution_count": 37,
      "metadata": {
        "jupyter": {
          "source_hidden": false,
          "outputs_hidden": false
        },
        "nteract": {
          "transient": {
            "deleting": false
          }
        },
        "gather": {
          "logged": 1734635072084
        }
      }
    },
    {
      "cell_type": "code",
      "source": [
        "random_search.best_estimator_"
      ],
      "outputs": [
        {
          "output_type": "execute_result",
          "execution_count": 34,
          "data": {
            "text/plain": "NeuralNetRegressor(activation=3, batch=27, eta=0.00022722376351800997,\n                   input_size=77,\n                   lin_layer_dropouts=[0.05876312338855244, 0.05876312338855244,\n                                       0.05876312338855244, 0.05876312338855244,\n                                       0.05876312338855244],\n                   lin_layer_sizes=[108, 108, 108], max_epochs=396, n_comp=77,\n                   random_state=42)",
            "text/html": "<style>#sk-container-id-1 {\n  /* Definition of color scheme common for light and dark mode */\n  --sklearn-color-text: black;\n  --sklearn-color-line: gray;\n  /* Definition of color scheme for unfitted estimators */\n  --sklearn-color-unfitted-level-0: #fff5e6;\n  --sklearn-color-unfitted-level-1: #f6e4d2;\n  --sklearn-color-unfitted-level-2: #ffe0b3;\n  --sklearn-color-unfitted-level-3: chocolate;\n  /* Definition of color scheme for fitted estimators */\n  --sklearn-color-fitted-level-0: #f0f8ff;\n  --sklearn-color-fitted-level-1: #d4ebff;\n  --sklearn-color-fitted-level-2: #b3dbfd;\n  --sklearn-color-fitted-level-3: cornflowerblue;\n\n  /* Specific color for light theme */\n  --sklearn-color-text-on-default-background: var(--sg-text-color, var(--theme-code-foreground, var(--jp-content-font-color1, black)));\n  --sklearn-color-background: var(--sg-background-color, var(--theme-background, var(--jp-layout-color0, white)));\n  --sklearn-color-border-box: var(--sg-text-color, var(--theme-code-foreground, var(--jp-content-font-color1, black)));\n  --sklearn-color-icon: #696969;\n\n  @media (prefers-color-scheme: dark) {\n    /* Redefinition of color scheme for dark theme */\n    --sklearn-color-text-on-default-background: var(--sg-text-color, var(--theme-code-foreground, var(--jp-content-font-color1, white)));\n    --sklearn-color-background: var(--sg-background-color, var(--theme-background, var(--jp-layout-color0, #111)));\n    --sklearn-color-border-box: var(--sg-text-color, var(--theme-code-foreground, var(--jp-content-font-color1, white)));\n    --sklearn-color-icon: #878787;\n  }\n}\n\n#sk-container-id-1 {\n  color: var(--sklearn-color-text);\n}\n\n#sk-container-id-1 pre {\n  padding: 0;\n}\n\n#sk-container-id-1 input.sk-hidden--visually {\n  border: 0;\n  clip: rect(1px 1px 1px 1px);\n  clip: rect(1px, 1px, 1px, 1px);\n  height: 1px;\n  margin: -1px;\n  overflow: hidden;\n  padding: 0;\n  position: absolute;\n  width: 1px;\n}\n\n#sk-container-id-1 div.sk-dashed-wrapped {\n  border: 1px dashed var(--sklearn-color-line);\n  margin: 0 0.4em 0.5em 0.4em;\n  box-sizing: border-box;\n  padding-bottom: 0.4em;\n  background-color: var(--sklearn-color-background);\n}\n\n#sk-container-id-1 div.sk-container {\n  /* jupyter's `normalize.less` sets `[hidden] { display: none; }`\n     but bootstrap.min.css set `[hidden] { display: none !important; }`\n     so we also need the `!important` here to be able to override the\n     default hidden behavior on the sphinx rendered scikit-learn.org.\n     See: https://github.com/scikit-learn/scikit-learn/issues/21755 */\n  display: inline-block !important;\n  position: relative;\n}\n\n#sk-container-id-1 div.sk-text-repr-fallback {\n  display: none;\n}\n\ndiv.sk-parallel-item,\ndiv.sk-serial,\ndiv.sk-item {\n  /* draw centered vertical line to link estimators */\n  background-image: linear-gradient(var(--sklearn-color-text-on-default-background), var(--sklearn-color-text-on-default-background));\n  background-size: 2px 100%;\n  background-repeat: no-repeat;\n  background-position: center center;\n}\n\n/* Parallel-specific style estimator block */\n\n#sk-container-id-1 div.sk-parallel-item::after {\n  content: \"\";\n  width: 100%;\n  border-bottom: 2px solid var(--sklearn-color-text-on-default-background);\n  flex-grow: 1;\n}\n\n#sk-container-id-1 div.sk-parallel {\n  display: flex;\n  align-items: stretch;\n  justify-content: center;\n  background-color: var(--sklearn-color-background);\n  position: relative;\n}\n\n#sk-container-id-1 div.sk-parallel-item {\n  display: flex;\n  flex-direction: column;\n}\n\n#sk-container-id-1 div.sk-parallel-item:first-child::after {\n  align-self: flex-end;\n  width: 50%;\n}\n\n#sk-container-id-1 div.sk-parallel-item:last-child::after {\n  align-self: flex-start;\n  width: 50%;\n}\n\n#sk-container-id-1 div.sk-parallel-item:only-child::after {\n  width: 0;\n}\n\n/* Serial-specific style estimator block */\n\n#sk-container-id-1 div.sk-serial {\n  display: flex;\n  flex-direction: column;\n  align-items: center;\n  background-color: var(--sklearn-color-background);\n  padding-right: 1em;\n  padding-left: 1em;\n}\n\n\n/* Toggleable style: style used for estimator/Pipeline/ColumnTransformer box that is\nclickable and can be expanded/collapsed.\n- Pipeline and ColumnTransformer use this feature and define the default style\n- Estimators will overwrite some part of the style using the `sk-estimator` class\n*/\n\n/* Pipeline and ColumnTransformer style (default) */\n\n#sk-container-id-1 div.sk-toggleable {\n  /* Default theme specific background. It is overwritten whether we have a\n  specific estimator or a Pipeline/ColumnTransformer */\n  background-color: var(--sklearn-color-background);\n}\n\n/* Toggleable label */\n#sk-container-id-1 label.sk-toggleable__label {\n  cursor: pointer;\n  display: block;\n  width: 100%;\n  margin-bottom: 0;\n  padding: 0.5em;\n  box-sizing: border-box;\n  text-align: center;\n}\n\n#sk-container-id-1 label.sk-toggleable__label-arrow:before {\n  /* Arrow on the left of the label */\n  content: \"▸\";\n  float: left;\n  margin-right: 0.25em;\n  color: var(--sklearn-color-icon);\n}\n\n#sk-container-id-1 label.sk-toggleable__label-arrow:hover:before {\n  color: var(--sklearn-color-text);\n}\n\n/* Toggleable content - dropdown */\n\n#sk-container-id-1 div.sk-toggleable__content {\n  max-height: 0;\n  max-width: 0;\n  overflow: hidden;\n  text-align: left;\n  /* unfitted */\n  background-color: var(--sklearn-color-unfitted-level-0);\n}\n\n#sk-container-id-1 div.sk-toggleable__content.fitted {\n  /* fitted */\n  background-color: var(--sklearn-color-fitted-level-0);\n}\n\n#sk-container-id-1 div.sk-toggleable__content pre {\n  margin: 0.2em;\n  border-radius: 0.25em;\n  color: var(--sklearn-color-text);\n  /* unfitted */\n  background-color: var(--sklearn-color-unfitted-level-0);\n}\n\n#sk-container-id-1 div.sk-toggleable__content.fitted pre {\n  /* unfitted */\n  background-color: var(--sklearn-color-fitted-level-0);\n}\n\n#sk-container-id-1 input.sk-toggleable__control:checked~div.sk-toggleable__content {\n  /* Expand drop-down */\n  max-height: 200px;\n  max-width: 100%;\n  overflow: auto;\n}\n\n#sk-container-id-1 input.sk-toggleable__control:checked~label.sk-toggleable__label-arrow:before {\n  content: \"▾\";\n}\n\n/* Pipeline/ColumnTransformer-specific style */\n\n#sk-container-id-1 div.sk-label input.sk-toggleable__control:checked~label.sk-toggleable__label {\n  color: var(--sklearn-color-text);\n  background-color: var(--sklearn-color-unfitted-level-2);\n}\n\n#sk-container-id-1 div.sk-label.fitted input.sk-toggleable__control:checked~label.sk-toggleable__label {\n  background-color: var(--sklearn-color-fitted-level-2);\n}\n\n/* Estimator-specific style */\n\n/* Colorize estimator box */\n#sk-container-id-1 div.sk-estimator input.sk-toggleable__control:checked~label.sk-toggleable__label {\n  /* unfitted */\n  background-color: var(--sklearn-color-unfitted-level-2);\n}\n\n#sk-container-id-1 div.sk-estimator.fitted input.sk-toggleable__control:checked~label.sk-toggleable__label {\n  /* fitted */\n  background-color: var(--sklearn-color-fitted-level-2);\n}\n\n#sk-container-id-1 div.sk-label label.sk-toggleable__label,\n#sk-container-id-1 div.sk-label label {\n  /* The background is the default theme color */\n  color: var(--sklearn-color-text-on-default-background);\n}\n\n/* On hover, darken the color of the background */\n#sk-container-id-1 div.sk-label:hover label.sk-toggleable__label {\n  color: var(--sklearn-color-text);\n  background-color: var(--sklearn-color-unfitted-level-2);\n}\n\n/* Label box, darken color on hover, fitted */\n#sk-container-id-1 div.sk-label.fitted:hover label.sk-toggleable__label.fitted {\n  color: var(--sklearn-color-text);\n  background-color: var(--sklearn-color-fitted-level-2);\n}\n\n/* Estimator label */\n\n#sk-container-id-1 div.sk-label label {\n  font-family: monospace;\n  font-weight: bold;\n  display: inline-block;\n  line-height: 1.2em;\n}\n\n#sk-container-id-1 div.sk-label-container {\n  text-align: center;\n}\n\n/* Estimator-specific */\n#sk-container-id-1 div.sk-estimator {\n  font-family: monospace;\n  border: 1px dotted var(--sklearn-color-border-box);\n  border-radius: 0.25em;\n  box-sizing: border-box;\n  margin-bottom: 0.5em;\n  /* unfitted */\n  background-color: var(--sklearn-color-unfitted-level-0);\n}\n\n#sk-container-id-1 div.sk-estimator.fitted {\n  /* fitted */\n  background-color: var(--sklearn-color-fitted-level-0);\n}\n\n/* on hover */\n#sk-container-id-1 div.sk-estimator:hover {\n  /* unfitted */\n  background-color: var(--sklearn-color-unfitted-level-2);\n}\n\n#sk-container-id-1 div.sk-estimator.fitted:hover {\n  /* fitted */\n  background-color: var(--sklearn-color-fitted-level-2);\n}\n\n/* Specification for estimator info (e.g. \"i\" and \"?\") */\n\n/* Common style for \"i\" and \"?\" */\n\n.sk-estimator-doc-link,\na:link.sk-estimator-doc-link,\na:visited.sk-estimator-doc-link {\n  float: right;\n  font-size: smaller;\n  line-height: 1em;\n  font-family: monospace;\n  background-color: var(--sklearn-color-background);\n  border-radius: 1em;\n  height: 1em;\n  width: 1em;\n  text-decoration: none !important;\n  margin-left: 1ex;\n  /* unfitted */\n  border: var(--sklearn-color-unfitted-level-1) 1pt solid;\n  color: var(--sklearn-color-unfitted-level-1);\n}\n\n.sk-estimator-doc-link.fitted,\na:link.sk-estimator-doc-link.fitted,\na:visited.sk-estimator-doc-link.fitted {\n  /* fitted */\n  border: var(--sklearn-color-fitted-level-1) 1pt solid;\n  color: var(--sklearn-color-fitted-level-1);\n}\n\n/* On hover */\ndiv.sk-estimator:hover .sk-estimator-doc-link:hover,\n.sk-estimator-doc-link:hover,\ndiv.sk-label-container:hover .sk-estimator-doc-link:hover,\n.sk-estimator-doc-link:hover {\n  /* unfitted */\n  background-color: var(--sklearn-color-unfitted-level-3);\n  color: var(--sklearn-color-background);\n  text-decoration: none;\n}\n\ndiv.sk-estimator.fitted:hover .sk-estimator-doc-link.fitted:hover,\n.sk-estimator-doc-link.fitted:hover,\ndiv.sk-label-container:hover .sk-estimator-doc-link.fitted:hover,\n.sk-estimator-doc-link.fitted:hover {\n  /* fitted */\n  background-color: var(--sklearn-color-fitted-level-3);\n  color: var(--sklearn-color-background);\n  text-decoration: none;\n}\n\n/* Span, style for the box shown on hovering the info icon */\n.sk-estimator-doc-link span {\n  display: none;\n  z-index: 9999;\n  position: relative;\n  font-weight: normal;\n  right: .2ex;\n  padding: .5ex;\n  margin: .5ex;\n  width: min-content;\n  min-width: 20ex;\n  max-width: 50ex;\n  color: var(--sklearn-color-text);\n  box-shadow: 2pt 2pt 4pt #999;\n  /* unfitted */\n  background: var(--sklearn-color-unfitted-level-0);\n  border: .5pt solid var(--sklearn-color-unfitted-level-3);\n}\n\n.sk-estimator-doc-link.fitted span {\n  /* fitted */\n  background: var(--sklearn-color-fitted-level-0);\n  border: var(--sklearn-color-fitted-level-3);\n}\n\n.sk-estimator-doc-link:hover span {\n  display: block;\n}\n\n/* \"?\"-specific style due to the `<a>` HTML tag */\n\n#sk-container-id-1 a.estimator_doc_link {\n  float: right;\n  font-size: 1rem;\n  line-height: 1em;\n  font-family: monospace;\n  background-color: var(--sklearn-color-background);\n  border-radius: 1rem;\n  height: 1rem;\n  width: 1rem;\n  text-decoration: none;\n  /* unfitted */\n  color: var(--sklearn-color-unfitted-level-1);\n  border: var(--sklearn-color-unfitted-level-1) 1pt solid;\n}\n\n#sk-container-id-1 a.estimator_doc_link.fitted {\n  /* fitted */\n  border: var(--sklearn-color-fitted-level-1) 1pt solid;\n  color: var(--sklearn-color-fitted-level-1);\n}\n\n/* On hover */\n#sk-container-id-1 a.estimator_doc_link:hover {\n  /* unfitted */\n  background-color: var(--sklearn-color-unfitted-level-3);\n  color: var(--sklearn-color-background);\n  text-decoration: none;\n}\n\n#sk-container-id-1 a.estimator_doc_link.fitted:hover {\n  /* fitted */\n  background-color: var(--sklearn-color-fitted-level-3);\n}\n</style><div id=\"sk-container-id-1\" class=\"sk-top-container\"><div class=\"sk-text-repr-fallback\"><pre>NeuralNetRegressor(activation=3, batch=27, eta=0.00022722376351800997,\n                   input_size=77,\n                   lin_layer_dropouts=[0.05876312338855244, 0.05876312338855244,\n                                       0.05876312338855244, 0.05876312338855244,\n                                       0.05876312338855244],\n                   lin_layer_sizes=[108, 108, 108], max_epochs=396, n_comp=77,\n                   random_state=42)</pre><b>In a Jupyter environment, please rerun this cell to show the HTML representation or trust the notebook. <br />On GitHub, the HTML representation is unable to render, please try loading this page with nbviewer.org.</b></div><div class=\"sk-container\" hidden><div class=\"sk-item\"><div class=\"sk-estimator  sk-toggleable\"><input class=\"sk-toggleable__control sk-hidden--visually\" id=\"sk-estimator-id-1\" type=\"checkbox\" checked><label for=\"sk-estimator-id-1\" class=\"sk-toggleable__label  sk-toggleable__label-arrow \">&nbsp;NeuralNetRegressor<span class=\"sk-estimator-doc-link \">i<span>Not fitted</span></span></label><div class=\"sk-toggleable__content \"><pre>NeuralNetRegressor(activation=3, batch=27, eta=0.00022722376351800997,\n                   input_size=77,\n                   lin_layer_dropouts=[0.05876312338855244, 0.05876312338855244,\n                                       0.05876312338855244, 0.05876312338855244,\n                                       0.05876312338855244],\n                   lin_layer_sizes=[108, 108, 108], max_epochs=396, n_comp=77,\n                   random_state=42)</pre></div> </div></div></div></div>"
          },
          "metadata": {}
        }
      ],
      "execution_count": 34,
      "metadata": {
        "jupyter": {
          "source_hidden": false,
          "outputs_hidden": false
        },
        "nteract": {
          "transient": {
            "deleting": false
          }
        },
        "gather": {
          "logged": 1734634894081
        }
      }
    },
    {
      "cell_type": "code",
      "source": [
        "random_search.best_score_"
      ],
      "outputs": [
        {
          "output_type": "execute_result",
          "execution_count": 35,
          "data": {
            "text/plain": "0.9715384615384615"
          },
          "metadata": {}
        }
      ],
      "execution_count": 35,
      "metadata": {
        "jupyter": {
          "source_hidden": false,
          "outputs_hidden": false
        },
        "nteract": {
          "transient": {
            "deleting": false
          }
        },
        "gather": {
          "logged": 1734634922134
        }
      }
    },
    {
      "cell_type": "code",
      "source": [
        "# nnreg = NeuralNetRegressor(input_size=input_size, random_state=55, **random_grid_result.best_params_)\n",
        "# nnreg.fit(X_train, y_train,do_print=True, X_valid=X_valid, y_valid=y_valid )"
      ],
      "outputs": [],
      "execution_count": null,
      "metadata": {
        "jupyter": {
          "source_hidden": false,
          "outputs_hidden": false
        },
        "nteract": {
          "transient": {
            "deleting": false
          }
        },
        "gather": {
          "logged": 1734602258371
        }
      }
    },
    {
      "cell_type": "code",
      "source": [
        "# nnreg.model.eval()\n",
        "# y_pred = nnreg.model(torch.tensor(X_valid).float())\n",
        "\n",
        "# #np.mean(np.square(y_valid-y_pred))"
      ],
      "outputs": [],
      "execution_count": null,
      "metadata": {
        "jupyter": {
          "source_hidden": false,
          "outputs_hidden": false
        },
        "nteract": {
          "transient": {
            "deleting": false
          }
        },
        "gather": {
          "logged": 1734607413583
        }
      }
    },
    {
      "cell_type": "code",
      "source": [
        "# y_pred2 = nnreg.predict(X_valid)\n",
        "# y_pred2 - y_pred.detach().numpy()[:,0]\n"
      ],
      "outputs": [],
      "execution_count": null,
      "metadata": {
        "jupyter": {
          "source_hidden": false,
          "outputs_hidden": false
        },
        "nteract": {
          "transient": {
            "deleting": false
          }
        },
        "gather": {
          "logged": 1734607415574
        }
      }
    },
    {
      "cell_type": "code",
      "source": [
        "# loss = nn.MSELoss()\n",
        "# loss(torch.tensor(y_valid),torch.tensor(y_pred))"
      ],
      "outputs": [],
      "execution_count": null,
      "metadata": {
        "jupyter": {
          "source_hidden": false,
          "outputs_hidden": false
        },
        "nteract": {
          "transient": {
            "deleting": false
          }
        },
        "gather": {
          "logged": 1734602853061
        }
      }
    },
    {
      "cell_type": "code",
      "source": [
        "#y_pred = nouveau_model.predict(X_valid)\n",
        "y_pred_train = nouveau_model.predict(X_train)\n",
        "predictions = nouveau_model.predict(X_test)*100\n",
        "\n",
        "# Vérifiez les sorties du modèle\n",
        "print(\"y_pred contains NaN:\", np.isnan(predictions).any())\n",
        "\n",
        "\n",
        "\n",
        "# Calculer le t_score\n",
        "train_score = np.mean(np.abs(y_pred_train-y_train)*100<=5)\n",
        "print(\"t_score train :\", train_score)\n",
        "\n",
        "ids = np.arange(1, len(predictions) + 1)\n",
        "\n",
        "# Create a DataFrame for the output\n",
        "output_df = pd.DataFrame({\n",
        "\n",
        "    'ID': ids,\n",
        "\n",
        "    'PURITY': predictions[:,0]\n",
        "\n",
        "})\n",
        "\n",
        "# Save the DataFrame to a CSV file\n",
        "output_df.to_csv('predictions.csv', index=False)"
      ],
      "outputs": [
        {
          "output_type": "stream",
          "name": "stdout",
          "text": "n_comp 77\nn_comp 77\ny_pred contains NaN: False\nt_score train : 1.0\n"
        }
      ],
      "execution_count": 36,
      "metadata": {
        "trusted": true,
        "execution": {
          "iopub.status.busy": "2024-12-18T17:10:15.282542Z",
          "iopub.execute_input": "2024-12-18T17:10:15.282963Z",
          "iopub.status.idle": "2024-12-18T17:10:15.307765Z",
          "shell.execute_reply.started": "2024-12-18T17:10:15.282927Z",
          "shell.execute_reply": "2024-12-18T17:10:15.306565Z"
        },
        "gather": {
          "logged": 1734635044448
        }
      }
    },
    {
      "cell_type": "code",
      "source": [
        "y_pred_train"
      ],
      "outputs": [],
      "execution_count": null,
      "metadata": {
        "jupyter": {
          "source_hidden": false,
          "outputs_hidden": false
        },
        "nteract": {
          "transient": {
            "deleting": false
          }
        },
        "gather": {
          "logged": 1734624921508
        }
      }
    },
    {
      "cell_type": "code",
      "source": [
        "y_train"
      ],
      "outputs": [],
      "execution_count": null,
      "metadata": {
        "jupyter": {
          "source_hidden": false,
          "outputs_hidden": false
        },
        "nteract": {
          "transient": {
            "deleting": false
          }
        },
        "gather": {
          "logged": 1734624928448
        }
      }
    },
    {
      "cell_type": "code",
      "source": [],
      "outputs": [],
      "execution_count": null,
      "metadata": {
        "jupyter": {
          "source_hidden": false,
          "outputs_hidden": false
        },
        "nteract": {
          "transient": {
            "deleting": false
          }
        }
      }
    }
  ],
  "metadata": {
    "kernelspec": {
      "name": "python38-azureml",
      "language": "python",
      "display_name": "Python 3.8 - AzureML"
    },
    "language_info": {
      "name": "python",
      "version": "3.10.11",
      "mimetype": "text/x-python",
      "codemirror_mode": {
        "name": "ipython",
        "version": 3
      },
      "pygments_lexer": "ipython3",
      "nbconvert_exporter": "python",
      "file_extension": ".py"
    },
    "kaggle": {
      "accelerator": "none",
      "dataSources": [
        {
          "sourceId": 10229122,
          "sourceType": "datasetVersion",
          "datasetId": 6324471
        },
        {
          "sourceId": 10229125,
          "sourceType": "datasetVersion",
          "datasetId": 6324474
        }
      ],
      "dockerImageVersionId": 30804,
      "isInternetEnabled": false,
      "language": "python",
      "sourceType": "notebook",
      "isGpuEnabled": false
    },
    "microsoft": {
      "ms_spell_check": {
        "ms_spell_check_language": "en"
      },
      "host": {
        "AzureML": {
          "notebookHasBeenCompleted": true
        }
      }
    },
    "kernel_info": {
      "name": "python38-azureml"
    },
    "nteract": {
      "version": "nteract-front-end@1.0.0"
    }
  },
  "nbformat": 4,
  "nbformat_minor": 4
}